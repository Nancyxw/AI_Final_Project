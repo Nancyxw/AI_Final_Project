{
 "cells": [
  {
   "cell_type": "code",
   "execution_count": 1,
   "metadata": {},
   "outputs": [
    {
     "name": "stdout",
     "output_type": "stream",
     "text": [
      "Populating the interactive namespace from numpy and matplotlib\n"
     ]
    }
   ],
   "source": [
    "#initial - import some basic libraries that might be useful here\n",
    "%pylab inline\n",
    "import pymongo\n",
    "import pandas as pd\n",
    "import seaborn as sns\n",
    "pd.set_option('display.max_rows', 30)\n",
    "import numpy as np"
   ]
  },
  {
   "cell_type": "code",
   "execution_count": 26,
   "metadata": {},
   "outputs": [
    {
     "name": "stdout",
     "output_type": "stream",
     "text": [
      "Connected successfully!!!\n"
     ]
    }
   ],
   "source": [
    "#connect to mongoDB\n",
    "try:\n",
    "    #use your database name, user and password here:\n",
    "    #mongodb://<dbuser>:<dbpassword>@<mlab_url>/<database_name>\n",
    "    with open(\"credentials1.txt\", 'r', encoding='utf-8') as f:\n",
    "        [name,password,url,dbname]=f.read().splitlines()\n",
    "        conn=pymongo.MongoClient(\"mongodb://{}:{}@{}/{}\".format(name,password,url,dbname))\n",
    "        print (\"Connected successfully!!!\")\n",
    "except pymongo.errors.ConnectionFailure as e:\n",
    "    print (\"Could not connect to MongoDB: %s\" % e) \n",
    "\n",
    "db = conn['aifinalproject_1']\n",
    "collection1 = db['MSAI_fulltext1']\n",
    "collection2 = db['MSAI_fulltext_1220']"
   ]
  },
  {
   "cell_type": "code",
   "execution_count": 28,
   "metadata": {},
   "outputs": [
    {
     "name": "stdout",
     "output_type": "stream",
     "text": [
      "{'_id': ObjectId('5a352ea10a411836947f6c28'), 'created_at': 'Fri Dec 15 19:18:49 +0000 2017', 'id': 941749403726970880, 'id_str': '941749403726970880', 'full_text': '#Microsoft adds more #AI smarts to #Office365 https://t.co/wjJUP2rJkY via @engadget #MicrosoftAI', 'truncated': False, 'display_text_range': [0, 96], 'entities': {'hashtags': [{'text': 'Microsoft', 'indices': [0, 10]}, {'text': 'AI', 'indices': [21, 24]}, {'text': 'Office365', 'indices': [35, 45]}, {'text': 'MicrosoftAI', 'indices': [84, 96]}], 'symbols': [], 'user_mentions': [{'screen_name': 'engadget', 'name': 'Engadget', 'id': 14372486, 'id_str': '14372486', 'indices': [74, 83]}], 'urls': [{'url': 'https://t.co/wjJUP2rJkY', 'expanded_url': 'https://www.engadget.com/2017/12/13/microsoft-adds-more-ai-smarts-office-365/', 'display_url': 'engadget.com/2017/12/13/mic…', 'indices': [46, 69]}]}, 'metadata': {'iso_language_code': 'en', 'result_type': 'recent'}, 'source': '<a href=\"http://twitter.com/download/android\" rel=\"nofollow\">Twitter for Android</a>', 'in_reply_to_status_id': None, 'in_reply_to_status_id_str': None, 'in_reply_to_user_id': None, 'in_reply_to_user_id_str': None, 'in_reply_to_screen_name': None, 'user': {'id': 118809265, 'id_str': '118809265', 'name': 'Joseph J Nalloor', 'screen_name': 'medianut', 'location': 'Dubai, UAE', 'description': \"Programme Coordinator, School of Media, Murdoch University Dubai, UAE (@MurdochUniDubai). Let's talk #Journalism #Diaspora #MediaStudies. RT ≠ endorsement.\", 'url': 'https://t.co/EBKs237jzk', 'entities': {'url': {'urls': [{'url': 'https://t.co/EBKs237jzk', 'expanded_url': 'http://www.linkedin.com/in/joseph-john-nalloor-72804451', 'display_url': 'linkedin.com/in/joseph-john…', 'indices': [0, 23]}]}, 'description': {'urls': []}}, 'protected': False, 'followers_count': 1075, 'friends_count': 2014, 'listed_count': 70, 'created_at': 'Mon Mar 01 20:26:12 +0000 2010', 'favourites_count': 3086, 'utc_offset': 14400, 'time_zone': 'Asia/Dubai', 'geo_enabled': True, 'verified': False, 'statuses_count': 12535, 'lang': 'en', 'contributors_enabled': False, 'is_translator': False, 'is_translation_enabled': False, 'profile_background_color': '8B542B', 'profile_background_image_url': 'http://pbs.twimg.com/profile_background_images/343156168/twilk_background_4e90ae3a21d18.jpg', 'profile_background_image_url_https': 'https://pbs.twimg.com/profile_background_images/343156168/twilk_background_4e90ae3a21d18.jpg', 'profile_background_tile': True, 'profile_image_url': 'http://pbs.twimg.com/profile_images/835410612968697856/gbEHMAP-_normal.jpg', 'profile_image_url_https': 'https://pbs.twimg.com/profile_images/835410612968697856/gbEHMAP-_normal.jpg', 'profile_banner_url': 'https://pbs.twimg.com/profile_banners/118809265/1357977358', 'profile_link_color': '9D582E', 'profile_sidebar_border_color': 'D9B17E', 'profile_sidebar_fill_color': 'FFFFFF', 'profile_text_color': '333333', 'profile_use_background_image': True, 'has_extended_profile': True, 'default_profile': False, 'default_profile_image': False, 'following': False, 'follow_request_sent': False, 'notifications': False, 'translator_type': 'none'}, 'geo': None, 'coordinates': None, 'place': None, 'contributors': None, 'is_quote_status': False, 'retweet_count': 0, 'favorite_count': 0, 'favorited': False, 'retweeted': False, 'possibly_sensitive': False, 'lang': 'en'}\n"
     ]
    }
   ],
   "source": [
    "#see how one collection element looks like\n",
    "print(collection1.find_one())"
   ]
  },
  {
   "cell_type": "code",
   "execution_count": 36,
   "metadata": {},
   "outputs": [
    {
     "name": "stdout",
     "output_type": "stream",
     "text": [
      "['Microsoft', 'AI', 'Office365', 'MicrosoftAI', 'AI', 'healthcare', 'healthcare', 'healthcare', 'Microsoft', 'healthcare']\n"
     ]
    }
   ],
   "source": [
    "#get all hashtags\n",
    "allhashtags = []\n",
    "\n",
    "collection_total = collection1.find()\n",
    "collection_total2 = collection2.find()\n",
    "\n",
    "for col in collection_total:\n",
    "    for i in col['entities']['hashtags']:\n",
    "        allhashtags.append(i['text'])\n",
    "\n",
    "for col in collection_total2:\n",
    "    for i in col['entities']['hashtags']:\n",
    "        allhashtags.append(i['text'])\n",
    "\n",
    "#see how it looks like\n",
    "print(allhashtags[:10])\n"
   ]
  },
  {
   "cell_type": "code",
   "execution_count": 44,
   "metadata": {},
   "outputs": [
    {
     "name": "stdout",
     "output_type": "stream",
     "text": [
      "['Dubai, UAE', '', 'Portugal', 'Madrid', 'Regina, SK', 'Milan, Italy', 'New York, NY', '', 'Trek Bicycle', 'Redmond, WA']\n",
      "['Dubai, UAE', 'Portugal', 'Madrid', 'Regina, SK', 'Milan, Italy', 'New York, NY', 'Trek Bicycle', 'Redmond, WA', 'South Africa', 'HQ NYC/Menlo Park']\n"
     ]
    }
   ],
   "source": [
    "#see where are all users from\n",
    "raw_location = []\n",
    "location = []\n",
    "collection_total = collection1.find()\n",
    "collection_total2 = collection2.find()\n",
    "\n",
    "for col in collection_total:\n",
    "    raw_location.append(col['user']['location'])\n",
    "    if col['user']['location'] != '':\n",
    "        location.append(col['user']['location'])\n",
    "\n",
    "print(raw_location[:10])\n",
    "print(location[:10])"
   ]
  },
  {
   "cell_type": "code",
   "execution_count": null,
   "metadata": {},
   "outputs": [],
   "source": []
  }
 ],
 "metadata": {
  "kernelspec": {
   "display_name": "Python 3",
   "language": "python",
   "name": "python3"
  },
  "language_info": {
   "codemirror_mode": {
    "name": "ipython",
    "version": 3
   },
   "file_extension": ".py",
   "mimetype": "text/x-python",
   "name": "python",
   "nbconvert_exporter": "python",
   "pygments_lexer": "ipython3",
   "version": "3.6.1"
  }
 },
 "nbformat": 4,
 "nbformat_minor": 2
}
