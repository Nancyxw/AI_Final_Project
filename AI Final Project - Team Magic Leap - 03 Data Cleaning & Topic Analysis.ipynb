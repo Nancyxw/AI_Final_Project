{
 "cells": [
  {
   "cell_type": "markdown",
   "metadata": {},
   "source": [
    "## ESADE MIBA Artifitial Intelligence Final Project \n",
    "### Team Magic Leap (formerly known as Team WWDC 2017)"
   ]
  },
  {
   "cell_type": "markdown",
   "metadata": {},
   "source": [
    "#### Team Member: Nancy Xiaowen Jiang, Che-Min Tsai, Lifu Zuo"
   ]
  },
  {
   "cell_type": "markdown",
   "metadata": {},
   "source": [
    "##### Agenda\n",
    "1. Define the digital event \n",
    "2. Definition of the problem (comment lines will be added later in the following notebooks)\n",
    "3. Scrap the data\n",
    "4. Clean the dataset (Including Topic analysis)\n",
    "5. Identify several types of users using different methods\n",
    "6. Propose a variable for a selected variable that is easy to explain to a decision-maker\n",
    "7. Propose a variable for the same selected variable that is as accurate as possible"
   ]
  },
  {
   "cell_type": "markdown",
   "metadata": {},
   "source": [
    "#### In this notebook, we will cover Part 4"
   ]
  },
  {
   "cell_type": "code",
   "execution_count": 1,
   "metadata": {},
   "outputs": [
    {
     "name": "stdout",
     "output_type": "stream",
     "text": [
      "Populating the interactive namespace from numpy and matplotlib\n"
     ]
    }
   ],
   "source": [
    "#initial - import some basic libraries that might be useful here\n",
    "%pylab inline\n",
    "import pandas as pd\n",
    "import seaborn as sns\n",
    "pd.set_option('display.max_rows', 30)\n",
    "import numpy as np\n",
    "import pymongo"
   ]
  },
  {
   "cell_type": "code",
   "execution_count": 2,
   "metadata": {},
   "outputs": [
    {
     "name": "stdout",
     "output_type": "stream",
     "text": [
      "Connected successfully!!!\n"
     ]
    }
   ],
   "source": [
    "#connect to mongoDB\n",
    "try:\n",
    "    #use your database name, user and password here:\n",
    "    #mongodb://<dbuser>:<dbpassword>@<mlab_url>/<database_name>\n",
    "    with open(\"credentials1.txt\", 'r', encoding='utf-8') as f:\n",
    "        [name,password,url,dbname]=f.read().splitlines()\n",
    "        conn=pymongo.MongoClient(\"mongodb://{}:{}@{}/{}\".format(name,password,url,dbname))\n",
    "        print (\"Connected successfully!!!\")\n",
    "except pymongo.errors.ConnectionFailure as e:\n",
    "    print (\"Could not connect to MongoDB: %s\" % e) \n",
    "\n",
    "db = conn['aifinalproject_1']\n",
    "collection = db['Magic_Leap']"
   ]
  },
  {
   "cell_type": "code",
   "execution_count": 3,
   "metadata": {},
   "outputs": [
    {
     "name": "stdout",
     "output_type": "stream",
     "text": [
      "{'_id': ObjectId('5a3aba680a41186c500a0776'), 'created_at': 'Wed Dec 20 19:30:22 +0000 2017', 'id': 943564250072657920, 'id_str': '943564250072657920', 'full_text': 'People are freaking out over the @magicleap product that almost no one’s seen yet https://t.co/LrQVipZbDN https://t.co/EvGkj5AM6C', 'truncated': False, 'display_text_range': [0, 105], 'entities': {'hashtags': [], 'symbols': [], 'user_mentions': [{'screen_name': 'magicleap', 'name': 'Magic Leap', 'id': 106109075, 'id_str': '106109075', 'indices': [33, 43]}], 'urls': [{'url': 'https://t.co/LrQVipZbDN', 'expanded_url': 'https://buff.ly/2oXaF49', 'display_url': 'buff.ly/2oXaF49', 'indices': [82, 105]}], 'media': [{'id': 943564247203811329, 'id_str': '943564247203811329', 'indices': [106, 129], 'media_url': 'http://pbs.twimg.com/media/DRg2rwFXkAEBJ89.jpg', 'media_url_https': 'https://pbs.twimg.com/media/DRg2rwFXkAEBJ89.jpg', 'url': 'https://t.co/EvGkj5AM6C', 'display_url': 'pic.twitter.com/EvGkj5AM6C', 'expanded_url': 'https://twitter.com/FastCompany/status/943564250072657920/photo/1', 'type': 'photo', 'sizes': {'thumb': {'w': 150, 'h': 150, 'resize': 'crop'}, 'medium': {'w': 1200, 'h': 676, 'resize': 'fit'}, 'small': {'w': 680, 'h': 383, 'resize': 'fit'}, 'large': {'w': 1280, 'h': 721, 'resize': 'fit'}}}]}, 'extended_entities': {'media': [{'id': 943564247203811329, 'id_str': '943564247203811329', 'indices': [106, 129], 'media_url': 'http://pbs.twimg.com/media/DRg2rwFXkAEBJ89.jpg', 'media_url_https': 'https://pbs.twimg.com/media/DRg2rwFXkAEBJ89.jpg', 'url': 'https://t.co/EvGkj5AM6C', 'display_url': 'pic.twitter.com/EvGkj5AM6C', 'expanded_url': 'https://twitter.com/FastCompany/status/943564250072657920/photo/1', 'type': 'photo', 'sizes': {'thumb': {'w': 150, 'h': 150, 'resize': 'crop'}, 'medium': {'w': 1200, 'h': 676, 'resize': 'fit'}, 'small': {'w': 680, 'h': 383, 'resize': 'fit'}, 'large': {'w': 1280, 'h': 721, 'resize': 'fit'}}}]}, 'metadata': {'iso_language_code': 'en', 'result_type': 'recent'}, 'source': '<a href=\"http://bufferapp.com\" rel=\"nofollow\">Buffer</a>', 'in_reply_to_status_id': None, 'in_reply_to_status_id_str': None, 'in_reply_to_user_id': None, 'in_reply_to_user_id_str': None, 'in_reply_to_screen_name': None, 'user': {'id': 2735591, 'id_str': '2735591', 'name': 'Fast Company', 'screen_name': 'FastCompany', 'location': 'New York, NY', 'description': 'Official Twitter feed for the Fast Company business media brand;  inspiring readers to think beyond traditional boundaries & create the future of business.', 'url': 'http://t.co/GBtvUq9rZp', 'entities': {'url': {'urls': [{'url': 'http://t.co/GBtvUq9rZp', 'expanded_url': 'http://www.fastcompany.com', 'display_url': 'fastcompany.com', 'indices': [0, 22]}]}, 'description': {'urls': []}}, 'protected': False, 'followers_count': 2323200, 'friends_count': 4026, 'listed_count': 44594, 'created_at': 'Wed Mar 28 22:39:21 +0000 2007', 'favourites_count': 7814, 'utc_offset': -18000, 'time_zone': 'Eastern Time (US & Canada)', 'geo_enabled': True, 'verified': True, 'statuses_count': 174691, 'lang': 'en', 'contributors_enabled': False, 'is_translator': False, 'is_translation_enabled': True, 'profile_background_color': 'FFFFFF', 'profile_background_image_url': 'http://pbs.twimg.com/profile_background_images/425029708/2048x1600-fc-twitter-backgrd.png', 'profile_background_image_url_https': 'https://pbs.twimg.com/profile_background_images/425029708/2048x1600-fc-twitter-backgrd.png', 'profile_background_tile': False, 'profile_image_url': 'http://pbs.twimg.com/profile_images/875769219400351744/ib7iIvRF_normal.jpg', 'profile_image_url_https': 'https://pbs.twimg.com/profile_images/875769219400351744/ib7iIvRF_normal.jpg', 'profile_banner_url': 'https://pbs.twimg.com/profile_banners/2735591/1513117354', 'profile_link_color': '9AB2B4', 'profile_sidebar_border_color': '5A5A5A', 'profile_sidebar_fill_color': 'CCCCCC', 'profile_text_color': '000000', 'profile_use_background_image': True, 'has_extended_profile': False, 'default_profile': False, 'default_profile_image': False, 'following': False, 'follow_request_sent': False, 'notifications': False, 'translator_type': 'none'}, 'geo': None, 'coordinates': None, 'place': None, 'contributors': None, 'is_quote_status': False, 'retweet_count': 0, 'favorite_count': 0, 'favorited': False, 'retweeted': False, 'possibly_sensitive': False, 'lang': 'en'}\n"
     ]
    }
   ],
   "source": [
    "#see how one collection element looks like\n",
    "print(collection.find_one())"
   ]
  },
  {
   "cell_type": "code",
   "execution_count": 4,
   "metadata": {},
   "outputs": [
    {
     "data": {
      "text/plain": [
       "(5018, 7)"
      ]
     },
     "execution_count": 4,
     "metadata": {},
     "output_type": "execute_result"
    }
   ],
   "source": [
    "#read the csv and trying to create a table\n",
    "\n",
    "#read the CSV file part 1\n",
    "data = pd.read_csv(\"C:/Users/maximjxw/Desktop/AI Final Project/magicleap.csv\",index_col = 0)\n",
    "df = pd.DataFrame(data)\n",
    "\n",
    "clean_df = df[['created_at','display_text_range','full_text','favorite_count','retweeted','retweeted_status','retweet_count',]]\n",
    "clean_df.shape"
   ]
  },
  {
   "cell_type": "code",
   "execution_count": 5,
   "metadata": {},
   "outputs": [
    {
     "name": "stderr",
     "output_type": "stream",
     "text": [
      "D:\\PythonSoftware\\lib\\site-packages\\ipykernel_launcher.py:6: SettingWithCopyWarning: \n",
      "A value is trying to be set on a copy of a slice from a DataFrame.\n",
      "Try using .loc[row_indexer,col_indexer] = value instead\n",
      "\n",
      "See the caveats in the documentation: http://pandas.pydata.org/pandas-docs/stable/indexing.html#indexing-view-versus-copy\n",
      "  \n"
     ]
    },
    {
     "data": {
      "text/html": [
       "<div>\n",
       "<style>\n",
       "    .dataframe thead tr:only-child th {\n",
       "        text-align: right;\n",
       "    }\n",
       "\n",
       "    .dataframe thead th {\n",
       "        text-align: left;\n",
       "    }\n",
       "\n",
       "    .dataframe tbody tr th {\n",
       "        vertical-align: top;\n",
       "    }\n",
       "</style>\n",
       "<table border=\"1\" class=\"dataframe\">\n",
       "  <thead>\n",
       "    <tr style=\"text-align: right;\">\n",
       "      <th></th>\n",
       "      <th>created_at</th>\n",
       "      <th>full_text</th>\n",
       "      <th>favorite_count</th>\n",
       "      <th>retweeted</th>\n",
       "      <th>retweeted_status</th>\n",
       "      <th>retweet_count</th>\n",
       "      <th>text_number</th>\n",
       "    </tr>\n",
       "  </thead>\n",
       "  <tbody>\n",
       "    <tr>\n",
       "      <th>0</th>\n",
       "      <td>Wed Dec 20 19:30:22 +0000 2017</td>\n",
       "      <td>People are freaking out over the @magicleap pr...</td>\n",
       "      <td>0</td>\n",
       "      <td>False</td>\n",
       "      <td>NaN</td>\n",
       "      <td>0</td>\n",
       "      <td>105</td>\n",
       "    </tr>\n",
       "    <tr>\n",
       "      <th>1</th>\n",
       "      <td>Mon Jan 01 00:16:42 +0000 2018</td>\n",
       "      <td>Google’s Magic Leap Just Revealed An Impressiv...</td>\n",
       "      <td>0</td>\n",
       "      <td>False</td>\n",
       "      <td>NaN</td>\n",
       "      <td>0</td>\n",
       "      <td>73</td>\n",
       "    </tr>\n",
       "  </tbody>\n",
       "</table>\n",
       "</div>"
      ],
      "text/plain": [
       "                       created_at  \\\n",
       "0  Wed Dec 20 19:30:22 +0000 2017   \n",
       "1  Mon Jan 01 00:16:42 +0000 2018   \n",
       "\n",
       "                                           full_text  favorite_count  \\\n",
       "0  People are freaking out over the @magicleap pr...               0   \n",
       "1  Google’s Magic Leap Just Revealed An Impressiv...               0   \n",
       "\n",
       "   retweeted retweeted_status  retweet_count text_number  \n",
       "0      False              NaN              0         105  \n",
       "1      False              NaN              0          73  "
      ]
     },
     "execution_count": 5,
     "metadata": {},
     "output_type": "execute_result"
    }
   ],
   "source": [
    "#update the text number\n",
    "text_number = []\n",
    "for i in clean_df['display_text_range']:\n",
    "    text_number.append(i.split(',')[1][:-1])\n",
    "\n",
    "clean_df['text_number'] = text_number\n",
    "clean_df = clean_df.drop(['display_text_range'], axis = 1)\n",
    "clean_df.head(2)"
   ]
  },
  {
   "cell_type": "code",
   "execution_count": 6,
   "metadata": {},
   "outputs": [
    {
     "name": "stdout",
     "output_type": "stream",
     "text": [
      "['AR', 'AugmentedReality', 'AR', 'AugmentedReality', 'magicleap', 'Cloud', 'Tech', 'HeyHeyHeyTODAY', 'كلنا_عبدالله_بن_زايد', 'RomaTorino']\n"
     ]
    }
   ],
   "source": [
    "#get all hashtags\n",
    "allhashtags = []\n",
    "\n",
    "collection_total = collection.find()\n",
    "\n",
    "for col in collection_total:\n",
    "    for i in col['entities']['hashtags']:\n",
    "        allhashtags.append(i['text'])\n",
    "\n",
    "#see how it looks like\n",
    "print(allhashtags[:10])"
   ]
  },
  {
   "cell_type": "code",
   "execution_count": 7,
   "metadata": {},
   "outputs": [
    {
     "name": "stdout",
     "output_type": "stream",
     "text": [
      "['People are freaking out over the @magicleap product that almost no one’s seen yet https://t.co/LrQVipZbDN https://t.co/EvGkj5AM6C', 'Google’s Magic Leap Just Revealed An Impressive Demo Of Augmented Reality']\n"
     ]
    }
   ],
   "source": [
    "#get all full text\n",
    "alltext = []\n",
    "\n",
    "collection_total = collection.find()\n",
    "\n",
    "for col in collection_total:\n",
    "    alltext.append(col['full_text'])\n",
    "\n",
    "#see how it looks like\n",
    "print(alltext[:2])"
   ]
  },
  {
   "cell_type": "code",
   "execution_count": 8,
   "metadata": {},
   "outputs": [
    {
     "name": "stdout",
     "output_type": "stream",
     "text": [
      "['New York, NY', '', 'Vancouver', 'Baketown California, USA', 'San Francisco, CA', 'Berkeley, CA', 'California USA', 'San Francisco, CA', 'Austin, Texas', '127.0.0.1']\n",
      "['New York, NY', 'Vancouver', 'Baketown California, USA', 'San Francisco, CA', 'Berkeley, CA', 'California USA', 'San Francisco, CA', 'Austin, Texas', '127.0.0.1', 'Malmö, Sweden']\n"
     ]
    }
   ],
   "source": [
    "#see where are all users from\n",
    "raw_location = []\n",
    "location = []\n",
    "collection_total = collection.find()\n",
    "\n",
    "for col in collection_total:\n",
    "    raw_location.append(col['user']['location'])\n",
    "    if col['user']['location'] != '':\n",
    "        location.append(col['user']['location'])\n",
    "\n",
    "print(raw_location[:10])\n",
    "print(location[:10])"
   ]
  },
  {
   "cell_type": "code",
   "execution_count": 10,
   "metadata": {},
   "outputs": [
    {
     "data": {
      "text/html": [
       "<div>\n",
       "<style>\n",
       "    .dataframe thead tr:only-child th {\n",
       "        text-align: right;\n",
       "    }\n",
       "\n",
       "    .dataframe thead th {\n",
       "        text-align: left;\n",
       "    }\n",
       "\n",
       "    .dataframe tbody tr th {\n",
       "        vertical-align: top;\n",
       "    }\n",
       "</style>\n",
       "<table border=\"1\" class=\"dataframe\">\n",
       "  <thead>\n",
       "    <tr style=\"text-align: right;\">\n",
       "      <th></th>\n",
       "      <th>created_at</th>\n",
       "      <th>full_text</th>\n",
       "      <th>favorite_count</th>\n",
       "      <th>retweeted</th>\n",
       "      <th>retweeted_status</th>\n",
       "      <th>retweet_count</th>\n",
       "      <th>text_number</th>\n",
       "      <th>location</th>\n",
       "    </tr>\n",
       "  </thead>\n",
       "  <tbody>\n",
       "    <tr>\n",
       "      <th>0</th>\n",
       "      <td>Wed Dec 20 19:30:22 +0000 2017</td>\n",
       "      <td>People are freaking out over the @magicleap pr...</td>\n",
       "      <td>0</td>\n",
       "      <td>False</td>\n",
       "      <td>NaN</td>\n",
       "      <td>0</td>\n",
       "      <td>105</td>\n",
       "      <td>New York, NY</td>\n",
       "    </tr>\n",
       "    <tr>\n",
       "      <th>1</th>\n",
       "      <td>Mon Jan 01 00:16:42 +0000 2018</td>\n",
       "      <td>Google’s Magic Leap Just Revealed An Impressiv...</td>\n",
       "      <td>0</td>\n",
       "      <td>False</td>\n",
       "      <td>NaN</td>\n",
       "      <td>0</td>\n",
       "      <td>73</td>\n",
       "      <td></td>\n",
       "    </tr>\n",
       "    <tr>\n",
       "      <th>2</th>\n",
       "      <td>Wed Dec 20 19:30:24 +0000 2017</td>\n",
       "      <td>RT @magicleap: World, meet Magic Leap One. Mag...</td>\n",
       "      <td>0</td>\n",
       "      <td>False</td>\n",
       "      <td>{'created_at': 'Wed Dec 20 14:01:52 +0000 2017...</td>\n",
       "      <td>1570</td>\n",
       "      <td>131</td>\n",
       "      <td>Vancouver</td>\n",
       "    </tr>\n",
       "    <tr>\n",
       "      <th>3</th>\n",
       "      <td>Wed Dec 20 19:30:13 +0000 2017</td>\n",
       "      <td>After 6 years and $1.9 billion in funding, sec...</td>\n",
       "      <td>0</td>\n",
       "      <td>False</td>\n",
       "      <td>NaN</td>\n",
       "      <td>0</td>\n",
       "      <td>110</td>\n",
       "      <td>Baketown California, USA</td>\n",
       "    </tr>\n",
       "    <tr>\n",
       "      <th>4</th>\n",
       "      <td>Wed Dec 20 19:30:12 +0000 2017</td>\n",
       "      <td>Here it is, people, the @magicleap One: https:...</td>\n",
       "      <td>0</td>\n",
       "      <td>False</td>\n",
       "      <td>NaN</td>\n",
       "      <td>0</td>\n",
       "      <td>87</td>\n",
       "      <td>San Francisco, CA</td>\n",
       "    </tr>\n",
       "  </tbody>\n",
       "</table>\n",
       "</div>"
      ],
      "text/plain": [
       "                       created_at  \\\n",
       "0  Wed Dec 20 19:30:22 +0000 2017   \n",
       "1  Mon Jan 01 00:16:42 +0000 2018   \n",
       "2  Wed Dec 20 19:30:24 +0000 2017   \n",
       "3  Wed Dec 20 19:30:13 +0000 2017   \n",
       "4  Wed Dec 20 19:30:12 +0000 2017   \n",
       "\n",
       "                                           full_text  favorite_count  \\\n",
       "0  People are freaking out over the @magicleap pr...               0   \n",
       "1  Google’s Magic Leap Just Revealed An Impressiv...               0   \n",
       "2  RT @magicleap: World, meet Magic Leap One. Mag...               0   \n",
       "3  After 6 years and $1.9 billion in funding, sec...               0   \n",
       "4  Here it is, people, the @magicleap One: https:...               0   \n",
       "\n",
       "   retweeted                                   retweeted_status  \\\n",
       "0      False                                                NaN   \n",
       "1      False                                                NaN   \n",
       "2      False  {'created_at': 'Wed Dec 20 14:01:52 +0000 2017...   \n",
       "3      False                                                NaN   \n",
       "4      False                                                NaN   \n",
       "\n",
       "   retweet_count text_number                  location  \n",
       "0              0         105              New York, NY  \n",
       "1              0          73                            \n",
       "2           1570         131                 Vancouver  \n",
       "3              0         110  Baketown California, USA  \n",
       "4              0          87         San Francisco, CA  "
      ]
     },
     "execution_count": 10,
     "metadata": {},
     "output_type": "execute_result"
    }
   ],
   "source": [
    "#merge the location in the dataframe\n",
    "clean_df['location'] = raw_location\n",
    "clean_df.head()"
   ]
  },
  {
   "cell_type": "code",
   "execution_count": 11,
   "metadata": {
    "scrolled": true
   },
   "outputs": [
    {
     "name": "stdout",
     "output_type": "stream",
     "text": [
      "['Official Twitter feed for the Fast Company business media brand;  inspiring readers to think beyond traditional boundaries & create the future of business.', \"Hey,I'm ohd Zulhelmi,1,Alor Sear,Kedah\"]\n",
      "['Official Twitter feed for the Fast Company business media brand;  inspiring readers to think beyond traditional boundaries & create the future of business.', \"Hey,I'm ohd Zulhelmi,1,Alor Sear,Kedah\"]\n"
     ]
    }
   ],
   "source": [
    "#get users' description\n",
    "raw_description = []\n",
    "description = []\n",
    "collection_total = collection.find()\n",
    "\n",
    "for col in collection_total:\n",
    "    raw_description.append(col['user']['description'])\n",
    "    if col['user']['description'] != '':\n",
    "        description.append(col['user']['description'])\n",
    "\n",
    "print(raw_description[:2])\n",
    "print(description[:2])"
   ]
  },
  {
   "cell_type": "code",
   "execution_count": 12,
   "metadata": {},
   "outputs": [
    {
     "name": "stdout",
     "output_type": "stream",
     "text": [
      "[2323200, 0] [4026, 128] [44594, 0] ['Wed Mar 28 22:39:21 +0000 2007', 'Sun Dec 03 21:11:06 +0000 2017'] [7814, 1] [174691, 9]\n"
     ]
    }
   ],
   "source": [
    "#get 'followers_count', 'friends_count', 'listed_count', 'created_at', 'favourites_count' & 'statuses_count'\n",
    "raw_followers_count = []\n",
    "raw_friends_count = []\n",
    "raw_listed_count = []\n",
    "raw_created_at = []\n",
    "raw_favourites_count = []\n",
    "raw_statuses_count = []\n",
    "\n",
    "collection_total = collection.find()\n",
    "\n",
    "for col in collection_total:\n",
    "    raw_followers_count.append(col['user']['followers_count'])\n",
    "    raw_friends_count.append(col['user']['friends_count'])\n",
    "    raw_listed_count.append(col['user']['listed_count'])\n",
    "    raw_created_at.append(col['user']['created_at'])\n",
    "    raw_favourites_count.append(col['user']['favourites_count'])\n",
    "    raw_statuses_count.append(col['user']['statuses_count'])\n",
    "    \n",
    "print(raw_followers_count[:2],\n",
    "raw_friends_count[:2],\n",
    "raw_listed_count[:2],\n",
    "raw_created_at[:2],\n",
    "raw_favourites_count[:2],\n",
    "raw_statuses_count[:2])"
   ]
  },
  {
   "cell_type": "code",
   "execution_count": 13,
   "metadata": {},
   "outputs": [
    {
     "data": {
      "text/html": [
       "<div>\n",
       "<style>\n",
       "    .dataframe thead tr:only-child th {\n",
       "        text-align: right;\n",
       "    }\n",
       "\n",
       "    .dataframe thead th {\n",
       "        text-align: left;\n",
       "    }\n",
       "\n",
       "    .dataframe tbody tr th {\n",
       "        vertical-align: top;\n",
       "    }\n",
       "</style>\n",
       "<table border=\"1\" class=\"dataframe\">\n",
       "  <thead>\n",
       "    <tr style=\"text-align: right;\">\n",
       "      <th></th>\n",
       "      <th>created_at</th>\n",
       "      <th>full_text</th>\n",
       "      <th>favorite_count</th>\n",
       "      <th>retweeted</th>\n",
       "      <th>retweeted_status</th>\n",
       "      <th>retweet_count</th>\n",
       "      <th>text_number</th>\n",
       "      <th>location</th>\n",
       "      <th>user_followers</th>\n",
       "      <th>user_friends</th>\n",
       "      <th>user_listed</th>\n",
       "      <th>user_created_at</th>\n",
       "      <th>user_favourites_count</th>\n",
       "      <th>user_statuses_number</th>\n",
       "    </tr>\n",
       "  </thead>\n",
       "  <tbody>\n",
       "    <tr>\n",
       "      <th>0</th>\n",
       "      <td>Wed Dec 20 19:30:22 +0000 2017</td>\n",
       "      <td>People are freaking out over the @magicleap pr...</td>\n",
       "      <td>0</td>\n",
       "      <td>False</td>\n",
       "      <td>NaN</td>\n",
       "      <td>0</td>\n",
       "      <td>105</td>\n",
       "      <td>New York, NY</td>\n",
       "      <td>2323200</td>\n",
       "      <td>4026</td>\n",
       "      <td>44594</td>\n",
       "      <td>Wed Mar 28 22:39:21 +0000 2007</td>\n",
       "      <td>7814</td>\n",
       "      <td>174691</td>\n",
       "    </tr>\n",
       "    <tr>\n",
       "      <th>1</th>\n",
       "      <td>Mon Jan 01 00:16:42 +0000 2018</td>\n",
       "      <td>Google’s Magic Leap Just Revealed An Impressiv...</td>\n",
       "      <td>0</td>\n",
       "      <td>False</td>\n",
       "      <td>NaN</td>\n",
       "      <td>0</td>\n",
       "      <td>73</td>\n",
       "      <td></td>\n",
       "      <td>0</td>\n",
       "      <td>128</td>\n",
       "      <td>0</td>\n",
       "      <td>Sun Dec 03 21:11:06 +0000 2017</td>\n",
       "      <td>1</td>\n",
       "      <td>9</td>\n",
       "    </tr>\n",
       "  </tbody>\n",
       "</table>\n",
       "</div>"
      ],
      "text/plain": [
       "                       created_at  \\\n",
       "0  Wed Dec 20 19:30:22 +0000 2017   \n",
       "1  Mon Jan 01 00:16:42 +0000 2018   \n",
       "\n",
       "                                           full_text  favorite_count  \\\n",
       "0  People are freaking out over the @magicleap pr...               0   \n",
       "1  Google’s Magic Leap Just Revealed An Impressiv...               0   \n",
       "\n",
       "   retweeted retweeted_status  retweet_count text_number      location  \\\n",
       "0      False              NaN              0         105  New York, NY   \n",
       "1      False              NaN              0          73                 \n",
       "\n",
       "   user_followers  user_friends  user_listed                 user_created_at  \\\n",
       "0         2323200          4026        44594  Wed Mar 28 22:39:21 +0000 2007   \n",
       "1               0           128            0  Sun Dec 03 21:11:06 +0000 2017   \n",
       "\n",
       "   user_favourites_count  user_statuses_number  \n",
       "0                   7814                174691  \n",
       "1                      1                     9  "
      ]
     },
     "execution_count": 13,
     "metadata": {},
     "output_type": "execute_result"
    }
   ],
   "source": [
    "#add users' detail to the dataframe\n",
    "clean_df['user_followers'] = raw_followers_count\n",
    "clean_df['user_friends'] = raw_friends_count\n",
    "clean_df['user_listed'] = raw_listed_count\n",
    "clean_df['user_created_at'] = raw_created_at\n",
    "clean_df['user_favourites_count'] = raw_favourites_count\n",
    "clean_df['user_statuses_number'] = raw_statuses_count\n",
    "\n",
    "clean_df.head(2)"
   ]
  },
  {
   "cell_type": "code",
   "execution_count": 14,
   "metadata": {
    "collapsed": true
   },
   "outputs": [],
   "source": [
    "#check retweet status and make it '1' if it's a retweet, '0' if it's not\n",
    "retweet_yesorno = []\n",
    "for text in alltext:\n",
    "    if 'RT ' in text:\n",
    "        retweet_yesorno.append(1)\n",
    "    else:\n",
    "        retweet_yesorno.append(0)"
   ]
  },
  {
   "cell_type": "code",
   "execution_count": 15,
   "metadata": {},
   "outputs": [
    {
     "data": {
      "text/html": [
       "<div>\n",
       "<style>\n",
       "    .dataframe thead tr:only-child th {\n",
       "        text-align: right;\n",
       "    }\n",
       "\n",
       "    .dataframe thead th {\n",
       "        text-align: left;\n",
       "    }\n",
       "\n",
       "    .dataframe tbody tr th {\n",
       "        vertical-align: top;\n",
       "    }\n",
       "</style>\n",
       "<table border=\"1\" class=\"dataframe\">\n",
       "  <thead>\n",
       "    <tr style=\"text-align: right;\">\n",
       "      <th></th>\n",
       "      <th>created_at</th>\n",
       "      <th>full_text</th>\n",
       "      <th>favorite_count</th>\n",
       "      <th>retweeted</th>\n",
       "      <th>retweeted_status</th>\n",
       "      <th>retweet_count</th>\n",
       "      <th>text_number</th>\n",
       "      <th>location</th>\n",
       "      <th>user_followers</th>\n",
       "      <th>user_friends</th>\n",
       "      <th>user_listed</th>\n",
       "      <th>user_created_at</th>\n",
       "      <th>user_favourites_count</th>\n",
       "      <th>user_statuses_number</th>\n",
       "      <th>Is_this_a_retweet</th>\n",
       "    </tr>\n",
       "  </thead>\n",
       "  <tbody>\n",
       "    <tr>\n",
       "      <th>0</th>\n",
       "      <td>Wed Dec 20 19:30:22 +0000 2017</td>\n",
       "      <td>People are freaking out over the @magicleap pr...</td>\n",
       "      <td>0</td>\n",
       "      <td>False</td>\n",
       "      <td>NaN</td>\n",
       "      <td>0</td>\n",
       "      <td>105</td>\n",
       "      <td>New York, NY</td>\n",
       "      <td>2323200</td>\n",
       "      <td>4026</td>\n",
       "      <td>44594</td>\n",
       "      <td>Wed Mar 28 22:39:21 +0000 2007</td>\n",
       "      <td>7814</td>\n",
       "      <td>174691</td>\n",
       "      <td>0</td>\n",
       "    </tr>\n",
       "    <tr>\n",
       "      <th>1</th>\n",
       "      <td>Mon Jan 01 00:16:42 +0000 2018</td>\n",
       "      <td>Google’s Magic Leap Just Revealed An Impressiv...</td>\n",
       "      <td>0</td>\n",
       "      <td>False</td>\n",
       "      <td>NaN</td>\n",
       "      <td>0</td>\n",
       "      <td>73</td>\n",
       "      <td></td>\n",
       "      <td>0</td>\n",
       "      <td>128</td>\n",
       "      <td>0</td>\n",
       "      <td>Sun Dec 03 21:11:06 +0000 2017</td>\n",
       "      <td>1</td>\n",
       "      <td>9</td>\n",
       "      <td>0</td>\n",
       "    </tr>\n",
       "    <tr>\n",
       "      <th>2</th>\n",
       "      <td>Wed Dec 20 19:30:24 +0000 2017</td>\n",
       "      <td>RT @magicleap: World, meet Magic Leap One. Mag...</td>\n",
       "      <td>0</td>\n",
       "      <td>False</td>\n",
       "      <td>{'created_at': 'Wed Dec 20 14:01:52 +0000 2017...</td>\n",
       "      <td>1570</td>\n",
       "      <td>131</td>\n",
       "      <td>Vancouver</td>\n",
       "      <td>1007</td>\n",
       "      <td>1231</td>\n",
       "      <td>32</td>\n",
       "      <td>Sun Jun 05 20:55:09 +0000 2011</td>\n",
       "      <td>1567</td>\n",
       "      <td>4990</td>\n",
       "      <td>1</td>\n",
       "    </tr>\n",
       "    <tr>\n",
       "      <th>3</th>\n",
       "      <td>Wed Dec 20 19:30:13 +0000 2017</td>\n",
       "      <td>After 6 years and $1.9 billion in funding, sec...</td>\n",
       "      <td>0</td>\n",
       "      <td>False</td>\n",
       "      <td>NaN</td>\n",
       "      <td>0</td>\n",
       "      <td>110</td>\n",
       "      <td>Baketown California, USA</td>\n",
       "      <td>15560</td>\n",
       "      <td>4199</td>\n",
       "      <td>162</td>\n",
       "      <td>Sat Nov 20 03:40:07 +0000 2010</td>\n",
       "      <td>26350</td>\n",
       "      <td>32491</td>\n",
       "      <td>0</td>\n",
       "    </tr>\n",
       "    <tr>\n",
       "      <th>4</th>\n",
       "      <td>Wed Dec 20 19:30:12 +0000 2017</td>\n",
       "      <td>Here it is, people, the @magicleap One: https:...</td>\n",
       "      <td>0</td>\n",
       "      <td>False</td>\n",
       "      <td>NaN</td>\n",
       "      <td>0</td>\n",
       "      <td>87</td>\n",
       "      <td>San Francisco, CA</td>\n",
       "      <td>169</td>\n",
       "      <td>208</td>\n",
       "      <td>133</td>\n",
       "      <td>Thu Jan 21 17:52:00 +0000 2016</td>\n",
       "      <td>77</td>\n",
       "      <td>1993</td>\n",
       "      <td>0</td>\n",
       "    </tr>\n",
       "  </tbody>\n",
       "</table>\n",
       "</div>"
      ],
      "text/plain": [
       "                       created_at  \\\n",
       "0  Wed Dec 20 19:30:22 +0000 2017   \n",
       "1  Mon Jan 01 00:16:42 +0000 2018   \n",
       "2  Wed Dec 20 19:30:24 +0000 2017   \n",
       "3  Wed Dec 20 19:30:13 +0000 2017   \n",
       "4  Wed Dec 20 19:30:12 +0000 2017   \n",
       "\n",
       "                                           full_text  favorite_count  \\\n",
       "0  People are freaking out over the @magicleap pr...               0   \n",
       "1  Google’s Magic Leap Just Revealed An Impressiv...               0   \n",
       "2  RT @magicleap: World, meet Magic Leap One. Mag...               0   \n",
       "3  After 6 years and $1.9 billion in funding, sec...               0   \n",
       "4  Here it is, people, the @magicleap One: https:...               0   \n",
       "\n",
       "   retweeted                                   retweeted_status  \\\n",
       "0      False                                                NaN   \n",
       "1      False                                                NaN   \n",
       "2      False  {'created_at': 'Wed Dec 20 14:01:52 +0000 2017...   \n",
       "3      False                                                NaN   \n",
       "4      False                                                NaN   \n",
       "\n",
       "   retweet_count text_number                  location  user_followers  \\\n",
       "0              0         105              New York, NY         2323200   \n",
       "1              0          73                                         0   \n",
       "2           1570         131                 Vancouver            1007   \n",
       "3              0         110  Baketown California, USA           15560   \n",
       "4              0          87         San Francisco, CA             169   \n",
       "\n",
       "   user_friends  user_listed                 user_created_at  \\\n",
       "0          4026        44594  Wed Mar 28 22:39:21 +0000 2007   \n",
       "1           128            0  Sun Dec 03 21:11:06 +0000 2017   \n",
       "2          1231           32  Sun Jun 05 20:55:09 +0000 2011   \n",
       "3          4199          162  Sat Nov 20 03:40:07 +0000 2010   \n",
       "4           208          133  Thu Jan 21 17:52:00 +0000 2016   \n",
       "\n",
       "   user_favourites_count  user_statuses_number  Is_this_a_retweet  \n",
       "0                   7814                174691                  0  \n",
       "1                      1                     9                  0  \n",
       "2                   1567                  4990                  1  \n",
       "3                  26350                 32491                  0  \n",
       "4                     77                  1993                  0  "
      ]
     },
     "execution_count": 15,
     "metadata": {},
     "output_type": "execute_result"
    }
   ],
   "source": [
    "#add this to the dataframe\n",
    "clean_df['Is_this_a_retweet'] = retweet_yesorno\n",
    "clean_df.head()"
   ]
  },
  {
   "cell_type": "code",
   "execution_count": null,
   "metadata": {
    "collapsed": true
   },
   "outputs": [],
   "source": []
  },
  {
   "cell_type": "code",
   "execution_count": null,
   "metadata": {
    "collapsed": true
   },
   "outputs": [],
   "source": []
  },
  {
   "cell_type": "code",
   "execution_count": null,
   "metadata": {
    "collapsed": true
   },
   "outputs": [],
   "source": []
  }
 ],
 "metadata": {
  "kernelspec": {
   "display_name": "Python 3",
   "language": "python",
   "name": "python3"
  },
  "language_info": {
   "codemirror_mode": {
    "name": "ipython",
    "version": 3
   },
   "file_extension": ".py",
   "mimetype": "text/x-python",
   "name": "python",
   "nbconvert_exporter": "python",
   "pygments_lexer": "ipython3",
   "version": "3.6.1"
  }
 },
 "nbformat": 4,
 "nbformat_minor": 2
}
