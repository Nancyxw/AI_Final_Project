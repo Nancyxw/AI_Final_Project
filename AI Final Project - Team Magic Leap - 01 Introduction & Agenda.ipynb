{
 "cells": [
  {
   "cell_type": "markdown",
   "metadata": {},
   "source": [
    "## ESADE MIBA Artifitial Intelligence Final Project \n",
    "### Team Magic Leap (formerly known as Team WWDC 2017)"
   ]
  },
  {
   "cell_type": "markdown",
   "metadata": {},
   "source": [
    "#### Team Member: Nancy Xiaowen Jiang, Che-Min Tsai, Lifu Zuo"
   ]
  },
  {
   "cell_type": "markdown",
   "metadata": {},
   "source": [
    "##### Agenda\n",
    "1. Define the digital event \n",
    "2. Definition of the problem (comment lines will be added later in the following notebooks)\n",
    "3. Scrap the data\n",
    "4. Clean the dataset (Including Topic analysis)\n",
    "5. Identify several types of users using different methods\n",
    "6. Propose a variable for a selected variable that is easy to explain to a decision-maker\n",
    "7. Propose a variable for the same selected variable that is as accurate as possible"
   ]
  },
  {
   "cell_type": "markdown",
   "metadata": {
    "collapsed": true
   },
   "source": [
    "#### In this notebook, we will cover Part 1 & 2"
   ]
  },
  {
   "cell_type": "markdown",
   "metadata": {},
   "source": [
    "###### 1. Define the digital event\n",
    "At first, we planned to work on the event \"#WWDC2017\" held in June 2017. During the twitter scrapping, we realized that it was difficult to get achive data for over 6 months ago. So we decided to change our topic to \"#MicrosoftAI\" as Microsoft launched its new Artificial Intelligence product in December 2017. However, there were not that many people talked about this topic so we could only scrap about 3000 tweets with over 70% retweet(RT) percentage. As a result, we switched our topic again to \"Magic Leap\" for our final asignment. Magic Leap launched its first product \"Magic Leap One\" on December 20th and tech-geeks were very excited discussing the new-launched product on twitter."
   ]
  },
  {
   "cell_type": "markdown",
   "metadata": {},
   "source": [
    "#### Brief Summary: Our topic is \"Magic Leap\". We will explore and analyze how people reacted to the new-launched  product \"Magic Leap One\" after December 20th, 2017."
   ]
  },
  {
   "cell_type": "markdown",
   "metadata": {},
   "source": [
    "###### 2. Defination of the problem"
   ]
  },
  {
   "cell_type": "markdown",
   "metadata": {
    "collapsed": true
   },
   "source": [
    "In the following notebooks, we are going to solve 3 major problems:\n",
    "1. What are people tweeting when they are talking about \"Magic Leap\"? To illustrate this problem, we applied data scrapping, data cleaning and topic analysis in notebook 02, 03\n",
    "2. What are the types of user tweeting on \"Magic Leap\"? To decode this problem, we did user analysis in notebook 04 to indicate user traits.\n",
    "3. How can we predict whether a tweet on \"Magic Leap\" is considered influencial or not? We tried further analysis in notebook 05 using multiple kinds of methods such as decision tree, linear regression, random forest, and more quantitative skillsets to accomplish the analysis."
   ]
  }
 ],
 "metadata": {
  "kernelspec": {
   "display_name": "Python 3",
   "language": "python",
   "name": "python3"
  },
  "language_info": {
   "codemirror_mode": {
    "name": "ipython",
    "version": 3
   },
   "file_extension": ".py",
   "mimetype": "text/x-python",
   "name": "python",
   "nbconvert_exporter": "python",
   "pygments_lexer": "ipython3",
   "version": "3.6.1"
  }
 },
 "nbformat": 4,
 "nbformat_minor": 2
}
