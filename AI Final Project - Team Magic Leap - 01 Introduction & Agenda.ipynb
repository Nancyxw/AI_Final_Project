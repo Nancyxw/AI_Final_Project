{
 "cells": [
  {
   "cell_type": "markdown",
   "metadata": {},
   "source": [
    "## ESADE MIBA Artifitial Intelligence Final Project \n",
    "### Team Magic Leap (formerly known as Team WWDC 2017)"
   ]
  },
  {
   "cell_type": "markdown",
   "metadata": {},
   "source": [
    "#### Team Member: Nancy Xiaowen Jiang, Che-Min Tsai, Lifu Zuo"
   ]
  },
  {
   "cell_type": "markdown",
   "metadata": {},
   "source": [
    "##### Agenda\n",
    "1. Define the digital event \n",
    "2. Definition of the problem (comment lines will be added later in the following notebooks)\n",
    "3. Scrap the data\n",
    "4. Clean the dataset (Including Topic analysis)\n",
    "5. Identify several types of users using different methods\n",
    "6. Propose a variable for a selected variable that is easy to explain to a decision-maker\n",
    "7. Propose a variable for the same selected variable that is as accurate as possible"
   ]
  },
  {
   "cell_type": "markdown",
   "metadata": {
    "collapsed": true
   },
   "source": [
    "#### In this notebook, we will cover Part 1 & 2"
   ]
  },
  {
   "cell_type": "markdown",
   "metadata": {},
   "source": [
    "###### 1. Define the digital event\n",
    "Initially, we plan to work on the event \"#WWDC2017\" held in June 2017. During the twitter scrapping part, we realized that it could be pretty hard for us to get achive data for 6 months. So we decided to change our topic to \"#MicrosoftAI\" as Microsoft launched its new Artificial Intelligence product in Dec. 2017. But it turns out that not so many people is passionate about this topic and we could only get ~3000 tweets with over 70% RT. Then, we decided to shift to \"Magic Leap\", who launched its first product Magic Leap One on Dec. 20th and drove tech-enthusiastics very excited and talking about it all over twitter."
   ]
  },
  {
   "cell_type": "markdown",
   "metadata": {},
   "source": [
    "#### To sum it up: Our group topic is \"Magic Leap\" and we will explore how people reacted when the company launched its first product Magic Leap One on Dec. 20th, 2017."
   ]
  },
  {
   "cell_type": "markdown",
   "metadata": {},
   "source": [
    "###### 2. Defination of the problem"
   ]
  },
  {
   "cell_type": "code",
   "execution_count": null,
   "metadata": {
    "collapsed": true
   },
   "outputs": [],
   "source": []
  },
  {
   "cell_type": "code",
   "execution_count": null,
   "metadata": {
    "collapsed": true
   },
   "outputs": [],
   "source": []
  },
  {
   "cell_type": "code",
   "execution_count": null,
   "metadata": {
    "collapsed": true
   },
   "outputs": [],
   "source": []
  }
 ],
 "metadata": {
  "kernelspec": {
   "display_name": "Python 3",
   "language": "python",
   "name": "python3"
  },
  "language_info": {
   "codemirror_mode": {
    "name": "ipython",
    "version": 3
   },
   "file_extension": ".py",
   "mimetype": "text/x-python",
   "name": "python",
   "nbconvert_exporter": "python",
   "pygments_lexer": "ipython3",
   "version": "3.6.1"
  }
 },
 "nbformat": 4,
 "nbformat_minor": 2
}
