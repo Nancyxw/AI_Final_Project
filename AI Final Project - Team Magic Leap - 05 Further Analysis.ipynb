{
 "cells": [
  {
   "cell_type": "markdown",
   "metadata": {},
   "source": [
    "## ESADE MIBA Artifitial Intelligence Final Project \n",
    "### Team Magic Leap (formerly known as Team WWDC 2017)"
   ]
  },
  {
   "cell_type": "markdown",
   "metadata": {},
   "source": [
    "#### Team Member: Nancy Xiaowen Jiang, Che-Min Tsai, Lifu Zuo"
   ]
  },
  {
   "cell_type": "markdown",
   "metadata": {},
   "source": [
    "##### Agenda\n",
    "1. Define the digital event \n",
    "2. Definition of the problem (comment lines will be added later in the following notebooks)\n",
    "3. Scrap the data\n",
    "4. Clean the dataset (Including Topic analysis)\n",
    "5. Identify several types of users using different methods\n",
    "6. Propose a variable for a selected variable that is easy to explain to a decision-maker\n",
    "7. Propose a variable for the same selected variable that is as accurate as possible"
   ]
  },
  {
   "cell_type": "markdown",
   "metadata": {},
   "source": [
    "#### In this notebook, we will cover Part 6 & 7"
   ]
  },
  {
   "cell_type": "code",
   "execution_count": null,
   "metadata": {
    "collapsed": true
   },
   "outputs": [],
   "source": []
  }
 ],
 "metadata": {
  "kernelspec": {
   "display_name": "Python 3",
   "language": "python",
   "name": "python3"
  },
  "language_info": {
   "codemirror_mode": {
    "name": "ipython",
    "version": 3
   },
   "file_extension": ".py",
   "mimetype": "text/x-python",
   "name": "python",
   "nbconvert_exporter": "python",
   "pygments_lexer": "ipython3",
   "version": "3.6.1"
  }
 },
 "nbformat": 4,
 "nbformat_minor": 2
}
