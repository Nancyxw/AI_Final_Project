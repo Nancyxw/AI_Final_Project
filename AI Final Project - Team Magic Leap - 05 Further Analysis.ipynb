{
 "cells": [
  {
   "cell_type": "markdown",
   "metadata": {},
   "source": [
    "## ESADE MIBA Artifitial Intelligence Final Project \n",
    "### Team Magic Leap (formerly known as Team WWDC 2017)"
   ]
  },
  {
   "cell_type": "markdown",
   "metadata": {},
   "source": [
    "#### Team Member: Nancy Xiaowen Jiang, Che-Min Tsai, Lifu Zuo"
   ]
  },
  {
   "cell_type": "markdown",
   "metadata": {},
   "source": [
    "##### Agenda\n",
    "1. Define the digital event \n",
    "2. Definition of the problem (comment lines will be added later in the following notebooks)\n",
    "3. Scrap the data\n",
    "4. Clean the dataset (Including Topic analysis)\n",
    "5. Identify several types of users using different methods\n",
    "6. Propose a variable for a selected variable that is easy to explain to a decision-maker\n",
    "7. Propose a variable for the same selected variable that is as accurate as possible"
   ]
  },
  {
   "cell_type": "markdown",
   "metadata": {},
   "source": [
    "#### In this notebook, we will cover Part 6 & 7"
   ]
  },
  {
   "cell_type": "code",
   "execution_count": 1,
   "metadata": {},
   "outputs": [
    {
     "name": "stderr",
     "output_type": "stream",
     "text": [
      "ERROR:root:File `'helper_functions.py'` not found.\n"
     ]
    },
    {
     "name": "stdout",
     "output_type": "stream",
     "text": [
      "Populating the interactive namespace from numpy and matplotlib\n"
     ]
    }
   ],
   "source": [
    "%pylab inline\n",
    "%run helper_functions.py\n",
    "\n",
    "import pandas as pd\n",
    "import seaborn as sns\n",
    "import numpy as np\n",
    "import sklearn\n",
    "sns.set_style(\"whitegrid\")"
   ]
  },
  {
   "cell_type": "code",
   "execution_count": 2,
   "metadata": {
    "collapsed": true
   },
   "outputs": [],
   "source": [
    "# A helper function to display the tree.\n",
    "# NOTE: requires pydotplus and graphviz libraries. \n",
    "    \n",
    "from IPython.display import Image \n",
    "import pydotplus\n",
    "def plot_tree(clf, feature_names, target_names):\n",
    "    dot_data = sklearn.tree.export_graphviz(clf, out_file=None, \n",
    "                             feature_names=feature_names,  \n",
    "                             class_names= target_names,  \n",
    "                             filled=True, rounded=True,  \n",
    "                             special_characters=True) \n",
    "    return pydotplus.graph_from_dot_data(dot_data).create_png() "
   ]
  },
  {
   "cell_type": "markdown",
   "metadata": {},
   "source": [
    "### Load the dataset"
   ]
  },
  {
   "cell_type": "code",
   "execution_count": 3,
   "metadata": {
    "scrolled": true
   },
   "outputs": [
    {
     "data": {
      "text/html": [
       "<div>\n",
       "<style>\n",
       "    .dataframe thead tr:only-child th {\n",
       "        text-align: right;\n",
       "    }\n",
       "\n",
       "    .dataframe thead th {\n",
       "        text-align: left;\n",
       "    }\n",
       "\n",
       "    .dataframe tbody tr th {\n",
       "        vertical-align: top;\n",
       "    }\n",
       "</style>\n",
       "<table border=\"1\" class=\"dataframe\">\n",
       "  <thead>\n",
       "    <tr style=\"text-align: right;\">\n",
       "      <th></th>\n",
       "      <th>full_text</th>\n",
       "      <th>favorite_count</th>\n",
       "      <th>retweet_count</th>\n",
       "      <th>text_number</th>\n",
       "      <th>location</th>\n",
       "      <th>user_followers</th>\n",
       "      <th>user_friends</th>\n",
       "      <th>user_listed</th>\n",
       "      <th>user_favourites_count</th>\n",
       "      <th>user_statuses_number</th>\n",
       "      <th>Is_this_a_retweet</th>\n",
       "      <th>retweet_fulltext</th>\n",
       "      <th>tweet_create_date</th>\n",
       "      <th>tweet_create_time</th>\n",
       "      <th>user_create_date</th>\n",
       "      <th>user_create_time</th>\n",
       "    </tr>\n",
       "  </thead>\n",
       "  <tbody>\n",
       "    <tr>\n",
       "      <th>0</th>\n",
       "      <td>People are freaking out over the @magicleap pr...</td>\n",
       "      <td>0</td>\n",
       "      <td>0</td>\n",
       "      <td>105</td>\n",
       "      <td>New York, NY</td>\n",
       "      <td>2323200</td>\n",
       "      <td>4026</td>\n",
       "      <td>44594</td>\n",
       "      <td>7814</td>\n",
       "      <td>174691</td>\n",
       "      <td>0</td>\n",
       "      <td>0</td>\n",
       "      <td>2017-12-20</td>\n",
       "      <td>19:30:22</td>\n",
       "      <td>2007-3-28</td>\n",
       "      <td>22:39:21</td>\n",
       "    </tr>\n",
       "    <tr>\n",
       "      <th>1</th>\n",
       "      <td>Google’s Magic Leap Just Revealed An Impressiv...</td>\n",
       "      <td>0</td>\n",
       "      <td>0</td>\n",
       "      <td>73</td>\n",
       "      <td>NaN</td>\n",
       "      <td>0</td>\n",
       "      <td>128</td>\n",
       "      <td>0</td>\n",
       "      <td>1</td>\n",
       "      <td>9</td>\n",
       "      <td>0</td>\n",
       "      <td>0</td>\n",
       "      <td>2018-1-01</td>\n",
       "      <td>00:16:42</td>\n",
       "      <td>2017-12-03</td>\n",
       "      <td>21:11:06</td>\n",
       "    </tr>\n",
       "    <tr>\n",
       "      <th>2</th>\n",
       "      <td>RT @magicleap: World, meet Magic Leap One. Mag...</td>\n",
       "      <td>0</td>\n",
       "      <td>1570</td>\n",
       "      <td>131</td>\n",
       "      <td>Vancouver</td>\n",
       "      <td>1007</td>\n",
       "      <td>1231</td>\n",
       "      <td>32</td>\n",
       "      <td>1567</td>\n",
       "      <td>4990</td>\n",
       "      <td>1</td>\n",
       "      <td>World, meet Magic Leap One. Magic Leap One, me...</td>\n",
       "      <td>2017-12-20</td>\n",
       "      <td>19:30:24</td>\n",
       "      <td>2011-6-05</td>\n",
       "      <td>20:55:09</td>\n",
       "    </tr>\n",
       "    <tr>\n",
       "      <th>3</th>\n",
       "      <td>After 6 years and $1.9 billion in funding, sec...</td>\n",
       "      <td>0</td>\n",
       "      <td>0</td>\n",
       "      <td>110</td>\n",
       "      <td>Baketown California, USA</td>\n",
       "      <td>15560</td>\n",
       "      <td>4199</td>\n",
       "      <td>162</td>\n",
       "      <td>26350</td>\n",
       "      <td>32491</td>\n",
       "      <td>0</td>\n",
       "      <td>0</td>\n",
       "      <td>2017-12-20</td>\n",
       "      <td>19:30:13</td>\n",
       "      <td>2010-11-20</td>\n",
       "      <td>03:40:07</td>\n",
       "    </tr>\n",
       "    <tr>\n",
       "      <th>4</th>\n",
       "      <td>Here it is, people, the @magicleap One: https:...</td>\n",
       "      <td>0</td>\n",
       "      <td>0</td>\n",
       "      <td>87</td>\n",
       "      <td>San Francisco, CA</td>\n",
       "      <td>169</td>\n",
       "      <td>208</td>\n",
       "      <td>133</td>\n",
       "      <td>77</td>\n",
       "      <td>1993</td>\n",
       "      <td>0</td>\n",
       "      <td>0</td>\n",
       "      <td>2017-12-20</td>\n",
       "      <td>19:30:12</td>\n",
       "      <td>2016-1-21</td>\n",
       "      <td>17:52:00</td>\n",
       "    </tr>\n",
       "  </tbody>\n",
       "</table>\n",
       "</div>"
      ],
      "text/plain": [
       "                                           full_text  favorite_count  \\\n",
       "0  People are freaking out over the @magicleap pr...               0   \n",
       "1  Google’s Magic Leap Just Revealed An Impressiv...               0   \n",
       "2  RT @magicleap: World, meet Magic Leap One. Mag...               0   \n",
       "3  After 6 years and $1.9 billion in funding, sec...               0   \n",
       "4  Here it is, people, the @magicleap One: https:...               0   \n",
       "\n",
       "   retweet_count  text_number                  location  user_followers  \\\n",
       "0              0          105              New York, NY         2323200   \n",
       "1              0           73                       NaN               0   \n",
       "2           1570          131                 Vancouver            1007   \n",
       "3              0          110  Baketown California, USA           15560   \n",
       "4              0           87         San Francisco, CA             169   \n",
       "\n",
       "   user_friends  user_listed  user_favourites_count  user_statuses_number  \\\n",
       "0          4026        44594                   7814                174691   \n",
       "1           128            0                      1                     9   \n",
       "2          1231           32                   1567                  4990   \n",
       "3          4199          162                  26350                 32491   \n",
       "4           208          133                     77                  1993   \n",
       "\n",
       "   Is_this_a_retweet                                   retweet_fulltext  \\\n",
       "0                  0                                                  0   \n",
       "1                  0                                                  0   \n",
       "2                  1  World, meet Magic Leap One. Magic Leap One, me...   \n",
       "3                  0                                                  0   \n",
       "4                  0                                                  0   \n",
       "\n",
       "  tweet_create_date tweet_create_time user_create_date user_create_time  \n",
       "0        2017-12-20         19:30:22         2007-3-28        22:39:21   \n",
       "1         2018-1-01         00:16:42        2017-12-03        21:11:06   \n",
       "2        2017-12-20         19:30:24         2011-6-05        20:55:09   \n",
       "3        2017-12-20         19:30:13        2010-11-20        03:40:07   \n",
       "4        2017-12-20         19:30:12         2016-1-21        17:52:00   "
      ]
     },
     "execution_count": 3,
     "metadata": {},
     "output_type": "execute_result"
    }
   ],
   "source": [
    "#Get the cleaned data we done before\n",
    "clean_df = pd.read_csv(\"C:/Users/maximjxw/Desktop/AI Final Project/clean_data.csv\", index_col = 0)\n",
    "clean_df1 = pd.DataFrame(clean_df)\n",
    "clean_df1.head()"
   ]
  },
  {
   "cell_type": "code",
   "execution_count": 4,
   "metadata": {
    "scrolled": true
   },
   "outputs": [
    {
     "data": {
      "text/html": [
       "<div>\n",
       "<style>\n",
       "    .dataframe thead tr:only-child th {\n",
       "        text-align: right;\n",
       "    }\n",
       "\n",
       "    .dataframe thead th {\n",
       "        text-align: left;\n",
       "    }\n",
       "\n",
       "    .dataframe tbody tr th {\n",
       "        vertical-align: top;\n",
       "    }\n",
       "</style>\n",
       "<table border=\"1\" class=\"dataframe\">\n",
       "  <thead>\n",
       "    <tr style=\"text-align: right;\">\n",
       "      <th></th>\n",
       "      <th>favorite_count</th>\n",
       "      <th>favorited</th>\n",
       "    </tr>\n",
       "  </thead>\n",
       "  <tbody>\n",
       "    <tr>\n",
       "      <th>0</th>\n",
       "      <td>0</td>\n",
       "      <td>0</td>\n",
       "    </tr>\n",
       "    <tr>\n",
       "      <th>1</th>\n",
       "      <td>0</td>\n",
       "      <td>0</td>\n",
       "    </tr>\n",
       "    <tr>\n",
       "      <th>2</th>\n",
       "      <td>0</td>\n",
       "      <td>0</td>\n",
       "    </tr>\n",
       "    <tr>\n",
       "      <th>3</th>\n",
       "      <td>0</td>\n",
       "      <td>0</td>\n",
       "    </tr>\n",
       "    <tr>\n",
       "      <th>4</th>\n",
       "      <td>0</td>\n",
       "      <td>0</td>\n",
       "    </tr>\n",
       "    <tr>\n",
       "      <th>5</th>\n",
       "      <td>0</td>\n",
       "      <td>0</td>\n",
       "    </tr>\n",
       "    <tr>\n",
       "      <th>6</th>\n",
       "      <td>0</td>\n",
       "      <td>0</td>\n",
       "    </tr>\n",
       "    <tr>\n",
       "      <th>7</th>\n",
       "      <td>0</td>\n",
       "      <td>0</td>\n",
       "    </tr>\n",
       "    <tr>\n",
       "      <th>8</th>\n",
       "      <td>0</td>\n",
       "      <td>0</td>\n",
       "    </tr>\n",
       "    <tr>\n",
       "      <th>9</th>\n",
       "      <td>0</td>\n",
       "      <td>0</td>\n",
       "    </tr>\n",
       "    <tr>\n",
       "      <th>10</th>\n",
       "      <td>0</td>\n",
       "      <td>0</td>\n",
       "    </tr>\n",
       "    <tr>\n",
       "      <th>11</th>\n",
       "      <td>0</td>\n",
       "      <td>0</td>\n",
       "    </tr>\n",
       "    <tr>\n",
       "      <th>12</th>\n",
       "      <td>0</td>\n",
       "      <td>0</td>\n",
       "    </tr>\n",
       "    <tr>\n",
       "      <th>13</th>\n",
       "      <td>0</td>\n",
       "      <td>0</td>\n",
       "    </tr>\n",
       "    <tr>\n",
       "      <th>14</th>\n",
       "      <td>1</td>\n",
       "      <td>1</td>\n",
       "    </tr>\n",
       "    <tr>\n",
       "      <th>15</th>\n",
       "      <td>0</td>\n",
       "      <td>0</td>\n",
       "    </tr>\n",
       "    <tr>\n",
       "      <th>16</th>\n",
       "      <td>0</td>\n",
       "      <td>0</td>\n",
       "    </tr>\n",
       "    <tr>\n",
       "      <th>17</th>\n",
       "      <td>0</td>\n",
       "      <td>0</td>\n",
       "    </tr>\n",
       "    <tr>\n",
       "      <th>18</th>\n",
       "      <td>0</td>\n",
       "      <td>0</td>\n",
       "    </tr>\n",
       "    <tr>\n",
       "      <th>19</th>\n",
       "      <td>0</td>\n",
       "      <td>0</td>\n",
       "    </tr>\n",
       "    <tr>\n",
       "      <th>20</th>\n",
       "      <td>0</td>\n",
       "      <td>0</td>\n",
       "    </tr>\n",
       "    <tr>\n",
       "      <th>21</th>\n",
       "      <td>1</td>\n",
       "      <td>1</td>\n",
       "    </tr>\n",
       "    <tr>\n",
       "      <th>22</th>\n",
       "      <td>0</td>\n",
       "      <td>0</td>\n",
       "    </tr>\n",
       "    <tr>\n",
       "      <th>23</th>\n",
       "      <td>0</td>\n",
       "      <td>0</td>\n",
       "    </tr>\n",
       "    <tr>\n",
       "      <th>24</th>\n",
       "      <td>0</td>\n",
       "      <td>0</td>\n",
       "    </tr>\n",
       "    <tr>\n",
       "      <th>25</th>\n",
       "      <td>0</td>\n",
       "      <td>0</td>\n",
       "    </tr>\n",
       "    <tr>\n",
       "      <th>26</th>\n",
       "      <td>1</td>\n",
       "      <td>1</td>\n",
       "    </tr>\n",
       "    <tr>\n",
       "      <th>27</th>\n",
       "      <td>0</td>\n",
       "      <td>0</td>\n",
       "    </tr>\n",
       "    <tr>\n",
       "      <th>28</th>\n",
       "      <td>0</td>\n",
       "      <td>0</td>\n",
       "    </tr>\n",
       "    <tr>\n",
       "      <th>29</th>\n",
       "      <td>1</td>\n",
       "      <td>1</td>\n",
       "    </tr>\n",
       "    <tr>\n",
       "      <th>...</th>\n",
       "      <td>...</td>\n",
       "      <td>...</td>\n",
       "    </tr>\n",
       "    <tr>\n",
       "      <th>4988</th>\n",
       "      <td>0</td>\n",
       "      <td>0</td>\n",
       "    </tr>\n",
       "    <tr>\n",
       "      <th>4989</th>\n",
       "      <td>4</td>\n",
       "      <td>1</td>\n",
       "    </tr>\n",
       "    <tr>\n",
       "      <th>4990</th>\n",
       "      <td>0</td>\n",
       "      <td>0</td>\n",
       "    </tr>\n",
       "    <tr>\n",
       "      <th>4991</th>\n",
       "      <td>0</td>\n",
       "      <td>0</td>\n",
       "    </tr>\n",
       "    <tr>\n",
       "      <th>4992</th>\n",
       "      <td>0</td>\n",
       "      <td>0</td>\n",
       "    </tr>\n",
       "    <tr>\n",
       "      <th>4993</th>\n",
       "      <td>0</td>\n",
       "      <td>0</td>\n",
       "    </tr>\n",
       "    <tr>\n",
       "      <th>4994</th>\n",
       "      <td>0</td>\n",
       "      <td>0</td>\n",
       "    </tr>\n",
       "    <tr>\n",
       "      <th>4995</th>\n",
       "      <td>0</td>\n",
       "      <td>0</td>\n",
       "    </tr>\n",
       "    <tr>\n",
       "      <th>4996</th>\n",
       "      <td>0</td>\n",
       "      <td>0</td>\n",
       "    </tr>\n",
       "    <tr>\n",
       "      <th>4997</th>\n",
       "      <td>0</td>\n",
       "      <td>0</td>\n",
       "    </tr>\n",
       "    <tr>\n",
       "      <th>4998</th>\n",
       "      <td>0</td>\n",
       "      <td>0</td>\n",
       "    </tr>\n",
       "    <tr>\n",
       "      <th>4999</th>\n",
       "      <td>0</td>\n",
       "      <td>0</td>\n",
       "    </tr>\n",
       "    <tr>\n",
       "      <th>5000</th>\n",
       "      <td>0</td>\n",
       "      <td>0</td>\n",
       "    </tr>\n",
       "    <tr>\n",
       "      <th>5001</th>\n",
       "      <td>0</td>\n",
       "      <td>0</td>\n",
       "    </tr>\n",
       "    <tr>\n",
       "      <th>5002</th>\n",
       "      <td>0</td>\n",
       "      <td>0</td>\n",
       "    </tr>\n",
       "    <tr>\n",
       "      <th>5003</th>\n",
       "      <td>0</td>\n",
       "      <td>0</td>\n",
       "    </tr>\n",
       "    <tr>\n",
       "      <th>5004</th>\n",
       "      <td>0</td>\n",
       "      <td>0</td>\n",
       "    </tr>\n",
       "    <tr>\n",
       "      <th>5005</th>\n",
       "      <td>0</td>\n",
       "      <td>0</td>\n",
       "    </tr>\n",
       "    <tr>\n",
       "      <th>5006</th>\n",
       "      <td>0</td>\n",
       "      <td>0</td>\n",
       "    </tr>\n",
       "    <tr>\n",
       "      <th>5007</th>\n",
       "      <td>2</td>\n",
       "      <td>1</td>\n",
       "    </tr>\n",
       "    <tr>\n",
       "      <th>5008</th>\n",
       "      <td>0</td>\n",
       "      <td>0</td>\n",
       "    </tr>\n",
       "    <tr>\n",
       "      <th>5009</th>\n",
       "      <td>0</td>\n",
       "      <td>0</td>\n",
       "    </tr>\n",
       "    <tr>\n",
       "      <th>5010</th>\n",
       "      <td>0</td>\n",
       "      <td>0</td>\n",
       "    </tr>\n",
       "    <tr>\n",
       "      <th>5011</th>\n",
       "      <td>1</td>\n",
       "      <td>1</td>\n",
       "    </tr>\n",
       "    <tr>\n",
       "      <th>5012</th>\n",
       "      <td>0</td>\n",
       "      <td>0</td>\n",
       "    </tr>\n",
       "    <tr>\n",
       "      <th>5013</th>\n",
       "      <td>16</td>\n",
       "      <td>1</td>\n",
       "    </tr>\n",
       "    <tr>\n",
       "      <th>5014</th>\n",
       "      <td>0</td>\n",
       "      <td>0</td>\n",
       "    </tr>\n",
       "    <tr>\n",
       "      <th>5015</th>\n",
       "      <td>0</td>\n",
       "      <td>0</td>\n",
       "    </tr>\n",
       "    <tr>\n",
       "      <th>5016</th>\n",
       "      <td>0</td>\n",
       "      <td>0</td>\n",
       "    </tr>\n",
       "    <tr>\n",
       "      <th>5017</th>\n",
       "      <td>0</td>\n",
       "      <td>0</td>\n",
       "    </tr>\n",
       "  </tbody>\n",
       "</table>\n",
       "<p>5018 rows × 2 columns</p>\n",
       "</div>"
      ],
      "text/plain": [
       "      favorite_count  favorited\n",
       "0                  0          0\n",
       "1                  0          0\n",
       "2                  0          0\n",
       "3                  0          0\n",
       "4                  0          0\n",
       "5                  0          0\n",
       "6                  0          0\n",
       "7                  0          0\n",
       "8                  0          0\n",
       "9                  0          0\n",
       "10                 0          0\n",
       "11                 0          0\n",
       "12                 0          0\n",
       "13                 0          0\n",
       "14                 1          1\n",
       "15                 0          0\n",
       "16                 0          0\n",
       "17                 0          0\n",
       "18                 0          0\n",
       "19                 0          0\n",
       "20                 0          0\n",
       "21                 1          1\n",
       "22                 0          0\n",
       "23                 0          0\n",
       "24                 0          0\n",
       "25                 0          0\n",
       "26                 1          1\n",
       "27                 0          0\n",
       "28                 0          0\n",
       "29                 1          1\n",
       "...              ...        ...\n",
       "4988               0          0\n",
       "4989               4          1\n",
       "4990               0          0\n",
       "4991               0          0\n",
       "4992               0          0\n",
       "4993               0          0\n",
       "4994               0          0\n",
       "4995               0          0\n",
       "4996               0          0\n",
       "4997               0          0\n",
       "4998               0          0\n",
       "4999               0          0\n",
       "5000               0          0\n",
       "5001               0          0\n",
       "5002               0          0\n",
       "5003               0          0\n",
       "5004               0          0\n",
       "5005               0          0\n",
       "5006               0          0\n",
       "5007               2          1\n",
       "5008               0          0\n",
       "5009               0          0\n",
       "5010               0          0\n",
       "5011               1          1\n",
       "5012               0          0\n",
       "5013              16          1\n",
       "5014               0          0\n",
       "5015               0          0\n",
       "5016               0          0\n",
       "5017               0          0\n",
       "\n",
       "[5018 rows x 2 columns]"
      ]
     },
     "execution_count": 4,
     "metadata": {},
     "output_type": "execute_result"
    }
   ],
   "source": [
    "#identify whether a tweet is liked or not\n",
    "favorited = []\n",
    "for i in clean_df1['favorite_count']:\n",
    "    if i == 0:\n",
    "        favorited.append(0)\n",
    "    else:\n",
    "        favorited.append(1)\n",
    "\n",
    "clean_df1.loc[:,'favorited'] = favorited\n",
    "clean_df1[['favorite_count','favorited']]"
   ]
  },
  {
   "cell_type": "markdown",
   "metadata": {},
   "source": [
    "Now we will implement further analysis:\n",
    "\n",
    "- First we will focus on models that is easy to be explained by the decision maker (Decision Tree)\n",
    "- Then we will focus more on models to be more accurate"
   ]
  },
  {
   "cell_type": "markdown",
   "metadata": {},
   "source": [
    "#### 1. Models that easy to explain —— Decision Tree"
   ]
  },
  {
   "cell_type": "code",
   "execution_count": 5,
   "metadata": {
    "collapsed": true
   },
   "outputs": [],
   "source": [
    "#clean datasets with only numerical information\n",
    "X_data = clean_df1[['retweet_count','text_number','Is_this_a_retweet','user_followers','user_friends','user_listed','user_favourites_count','user_statuses_number']]\n",
    "X = np.array(X_data)\n",
    "y = clean_df1['favorited']\n",
    "\n",
    "feature_names = X_data.columns\n",
    "class_labels = [\"Not favorited\", \"Favorited\"]"
   ]
  },
  {
   "cell_type": "code",
   "execution_count": 6,
   "metadata": {},
   "outputs": [
    {
     "name": "stdout",
     "output_type": "stream",
     "text": [
      "Accuracy Training         : 0.919489836588\n",
      "Accuracy Cross Validation : 0.90 (+/- 0.03)\n"
     ]
    }
   ],
   "source": [
    "from sklearn.tree import DecisionTreeClassifier\n",
    "from sklearn.model_selection import cross_val_score\n",
    "\n",
    "tree = DecisionTreeClassifier(max_leaf_nodes=20, random_state=0)\n",
    "\n",
    "\n",
    "# score at training\n",
    "score_test = tree.fit(X,y).score(X, y)\n",
    "print(\"Accuracy Training         :\", score_test)\n",
    "\n",
    "scores = cross_val_score(tree, X, y, cv=10)\n",
    "print(\"Accuracy Cross Validation : %0.2f (+/- %0.2f)\" % (scores.mean(), scores.std() * 2))"
   ]
  },
  {
   "cell_type": "code",
   "execution_count": 7,
   "metadata": {},
   "outputs": [
    {
     "name": "stdout",
     "output_type": "stream",
     "text": [
      "Best parameters:  DecisionTreeClassifier(class_weight=None, criterion='gini', max_depth=None,\n",
      "            max_features=None, max_leaf_nodes=9, min_impurity_decrease=0.0,\n",
      "            min_impurity_split=None, min_samples_leaf=2,\n",
      "            min_samples_split=2, min_weight_fraction_leaf=0.0,\n",
      "            presort=False, random_state=None, splitter='best')\n",
      "Best score:  0.907370517928\n"
     ]
    }
   ],
   "source": [
    "from sklearn.model_selection import GridSearchCV\n",
    "from sklearn.model_selection import ShuffleSplit\n",
    "\n",
    "params = { \n",
    "           'min_samples_leaf':  range(2,10),\n",
    "           'max_leaf_nodes'  :  range(2,10)\n",
    "         }\n",
    "\n",
    "tree = DecisionTreeClassifier()\n",
    "\n",
    "cv = ShuffleSplit(n_splits=10, random_state=0)\n",
    "grid = GridSearchCV(estimator=tree, cv = cv, param_grid=params )\n",
    "grid.fit(X, y)\n",
    "# summarize the results of the grid search\n",
    "print(\"Best parameters: \", grid.best_estimator_)\n",
    "print(\"Best score: \", grid.best_score_)"
   ]
  },
  {
   "cell_type": "markdown",
   "metadata": {},
   "source": [
    "#### Random Forest"
   ]
  },
  {
   "cell_type": "code",
   "execution_count": 8,
   "metadata": {},
   "outputs": [
    {
     "name": "stdout",
     "output_type": "stream",
     "text": [
      "Accuracy: 0.89 (+/- 0.01)\n"
     ]
    },
    {
     "data": {
      "text/plain": [
       "retweet_count            0.303307\n",
       "Is_this_a_retweet        0.244584\n",
       "user_followers           0.187973\n",
       "text_number              0.148145\n",
       "user_listed              0.063353\n",
       "user_favourites_count    0.043050\n",
       "user_friends             0.009588\n",
       "user_statuses_number     0.000000\n",
       "dtype: float64"
      ]
     },
     "execution_count": 8,
     "metadata": {},
     "output_type": "execute_result"
    }
   ],
   "source": [
    "from sklearn.model_selection import GridSearchCV\n",
    "from sklearn.model_selection import ShuffleSplit\n",
    "from sklearn.ensemble import RandomForestClassifier\n",
    "\n",
    "tree = RandomForestClassifier(max_leaf_nodes=4)\n",
    "scores = cross_val_score(tree, X, y, cv=5)\n",
    "print(\"Accuracy: %0.2f (+/- %0.2f)\" % (scores.mean(), scores.std() * 2))\n",
    "\n",
    "important_features = pd.Series(data=tree.fit(X,y).feature_importances_ ,index=feature_names)\n",
    "important_features.sort_values(ascending=False)"
   ]
  },
  {
   "cell_type": "markdown",
   "metadata": {},
   "source": [
    "Now further analysis for this dataset and plot the tree:"
   ]
  },
  {
   "cell_type": "code",
   "execution_count": 9,
   "metadata": {},
   "outputs": [
    {
     "name": "stdout",
     "output_type": "stream",
     "text": [
      "Best parameters:  DecisionTreeClassifier(class_weight=None, criterion='gini', max_depth=None,\n",
      "            max_features=None, max_leaf_nodes=6, min_impurity_decrease=0.0,\n",
      "            min_impurity_split=None, min_samples_leaf=1,\n",
      "            min_samples_split=2, min_weight_fraction_leaf=0.0,\n",
      "            presort=False, random_state=None, splitter='best')\n",
      "Best score:  0.906972111554\n"
     ]
    },
    {
     "data": {
      "image/png": "[encoded data removed]",
      "text/plain": [
       "<IPython.core.display.Image object>"
      ]
     },
     "execution_count": 9,
     "metadata": {},
     "output_type": "execute_result"
    }
   ],
   "source": [
    "from sklearn.model_selection import GridSearchCV\n",
    "from sklearn.model_selection import ShuffleSplit\n",
    "\n",
    "params = { \n",
    "           #'min_samples_leaf':  range(2,10),\n",
    "           'max_leaf_nodes'  :  range(2,7)\n",
    "         }\n",
    "\n",
    "tree = DecisionTreeClassifier()\n",
    "\n",
    "cv = ShuffleSplit(n_splits=10, random_state=0)\n",
    "grid = GridSearchCV(estimator=tree, cv = cv, param_grid=params )\n",
    "grid.fit(X, y)\n",
    "# summarize the results of the grid search\n",
    "print(\"Best parameters: \", grid.best_estimator_)\n",
    "print(\"Best score: \", grid.best_score_)\n",
    "\n",
    "\n",
    "Image(plot_tree(grid.best_estimator_, feature_names, class_labels))"
   ]
  },
  {
   "cell_type": "code",
   "execution_count": 10,
   "metadata": {},
   "outputs": [
    {
     "data": {
      "text/plain": [
       "retweet_count            0.200718\n",
       "user_favourites_count    0.128685\n",
       "text_number              0.124427\n",
       "user_statuses_number     0.120209\n",
       "Is_this_a_retweet        0.115619\n",
       "user_listed              0.113627\n",
       "user_friends             0.099000\n",
       "user_followers           0.097716\n",
       "dtype: float64"
      ]
     },
     "execution_count": 10,
     "metadata": {},
     "output_type": "execute_result"
    }
   ],
   "source": [
    "important_features = pd.Series(data=tree.fit(X,y).feature_importances_ ,index=feature_names)\n",
    "important_features.sort_values(ascending=False)"
   ]
  },
  {
   "cell_type": "markdown",
   "metadata": {},
   "source": [
    "##### GradientBoostingClassifier"
   ]
  },
  {
   "cell_type": "code",
   "execution_count": 11,
   "metadata": {},
   "outputs": [
    {
     "name": "stdout",
     "output_type": "stream",
     "text": [
      "Accuracy: 0.91 (+/- 0.02)\n"
     ]
    },
    {
     "data": {
      "text/plain": [
       "user_statuses_number     0.199351\n",
       "text_number              0.167305\n",
       "user_listed              0.121151\n",
       "retweet_count            0.111040\n",
       "user_followers           0.110957\n",
       "Is_this_a_retweet        0.106955\n",
       "user_friends             0.103648\n",
       "user_favourites_count    0.079594\n",
       "dtype: float64"
      ]
     },
     "execution_count": 11,
     "metadata": {},
     "output_type": "execute_result"
    }
   ],
   "source": [
    "from sklearn.ensemble import GradientBoostingClassifier\n",
    "\n",
    "tree = GradientBoostingClassifier()\n",
    "scores = cross_val_score(tree, X, y, cv=5)\n",
    "print(\"Accuracy: %0.2f (+/- %0.2f)\" % (scores.mean(), scores.std() * 2))\n",
    "\n",
    "\n",
    "important_features = pd.Series(data=tree.fit(X,y).feature_importances_ ,index=feature_names)\n",
    "important_features.sort_values(ascending=False)"
   ]
  },
  {
   "cell_type": "markdown",
   "metadata": {},
   "source": [
    "#### To summarize, we build the decision tree model to determine whether a tweet is favorited or not. We found that the two most important features are retweet count and text number."
   ]
  },
  {
   "cell_type": "markdown",
   "metadata": {},
   "source": [
    "#### 2. Models that are more accurate"
   ]
  },
  {
   "cell_type": "code",
   "execution_count": 12,
   "metadata": {
    "collapsed": true
   },
   "outputs": [],
   "source": [
    "from IPython.core.interactiveshell import InteractiveShell\n",
    "InteractiveShell.ast_node_interactivity = \"all\""
   ]
  },
  {
   "cell_type": "markdown",
   "metadata": {},
   "source": [
    "First we use linear regression:"
   ]
  },
  {
   "cell_type": "code",
   "execution_count": 13,
   "metadata": {},
   "outputs": [
    {
     "name": "stderr",
     "output_type": "stream",
     "text": [
      "D:\\PythonSoftware\\lib\\site-packages\\sklearn\\cross_validation.py:41: DeprecationWarning: This module was deprecated in version 0.18 in favor of the model_selection module into which all the refactored classes and functions are moved. Also note that the interface of the new CV iterators are different from that of this module. This module will be removed in 0.20.\n",
      "  \"This module will be removed in 0.20.\", DeprecationWarning)\n"
     ]
    },
    {
     "data": {
      "text/plain": [
       "LinearRegression(copy_X=True, fit_intercept=True, n_jobs=1, normalize=False)"
      ]
     },
     "execution_count": 13,
     "metadata": {},
     "output_type": "execute_result"
    },
    {
     "name": "stdout",
     "output_type": "stream",
     "text": [
      "Model Favorited - R2: 0.1740\n",
      "\n"
     ]
    },
    {
     "data": {
      "text/plain": [
       "<seaborn.axisgrid.FacetGrid at 0x2aaa900ce48>"
      ]
     },
     "execution_count": 13,
     "metadata": {},
     "output_type": "execute_result"
    },
    {
     "data": {
      "text/plain": [
       "<matplotlib.text.Text at 0x2aaa900ce80>"
      ]
     },
     "execution_count": 13,
     "metadata": {},
     "output_type": "execute_result"
    },
    {
     "name": "stdout",
     "output_type": "stream",
     "text": [
      "Coefficients [Diameter] [Toppings]  [  1.50243988e-06   1.34928147e-03  -2.45773213e-01  -2.10535581e-08\n",
      "   1.69494277e-06   1.75374748e-05   4.45211060e-07  -1.08002009e-07]\n",
      "R-squared of the train model: 0.1709\n",
      "R-squared of the test model: 0.1740\n"
     ]
    },
    {
     "data": {
      "image/png": "[encoded data removed]",
      "text/plain": [
       "<matplotlib.figure.Figure at 0x2aaa904f0b8>"
      ]
     },
     "metadata": {},
     "output_type": "display_data"
    }
   ],
   "source": [
    "#linear regression\n",
    "from sklearn.linear_model import LinearRegression\n",
    "from sklearn.cross_validation import train_test_split\n",
    "\n",
    "X_data = clean_df1[['retweet_count','text_number','Is_this_a_retweet','user_followers','user_friends','user_listed','user_favourites_count','user_statuses_number']]\n",
    "X = np.array(X_data)\n",
    "y = clean_df1['favorited']\n",
    "\n",
    "X_train, X_test, Y_train, Y_test=train_test_split(X,y,test_size=0.33)\n",
    "\n",
    "model1=LinearRegression()\n",
    "model1.fit(X_train,Y_train)\n",
    "print(\"Model Favorited - R2: {0:.4f}\".format(model1.score(X_test,Y_test)))\n",
    "print()\n",
    "\n",
    "\n",
    "dfRM=pd.DataFrame()\n",
    "dfRM[\"I\"]=range(1,len(Y_test)+1)\n",
    "dfRM[\"Features\"]=Y_test\n",
    "dfRM[\"Predicted Favorited\"]=model1.predict(X_test)\n",
    "sns.lmplot(x=\"Features\",y=\"Predicted Favorited\", data=dfRM, size=9)\n",
    "plt.suptitle(\"Predicted Favorited\")\n",
    "\n",
    "print(\"Coefficients [Diameter] [Toppings] \",model1.coef_)\n",
    "\n",
    "print(\"R-squared of the train model: {0:.4f}\".format(model1.score(X,y)))\n",
    "print(\"R-squared of the test model: {0:.4f}\".format(model1.score(X_test,Y_test)))\n"
   ]
  },
  {
   "cell_type": "markdown",
   "metadata": {},
   "source": [
    "#### Clearly, the linear regression prediction is not so accurate, only with a 0.1338 R-squared"
   ]
  },
  {
   "cell_type": "code",
   "execution_count": 14,
   "metadata": {},
   "outputs": [
    {
     "name": "stdout",
     "output_type": "stream",
     "text": [
      "X (1rst element only) [      0     105       0 2323200    4026   44594    7814  174691]\n",
      "X transformed to a polynomial degree 2 [  0.00000000e+00   1.05000000e+02   0.00000000e+00   2.32320000e+06\n",
      "   4.02600000e+03   4.45940000e+04   7.81400000e+03   1.74691000e+05\n",
      "   0.00000000e+00   0.00000000e+00   0.00000000e+00   0.00000000e+00\n",
      "   0.00000000e+00   0.00000000e+00   0.00000000e+00   0.00000000e+00\n",
      "   1.10250000e+04   0.00000000e+00   2.43936000e+08   4.22730000e+05\n",
      "   4.68237000e+06   8.20470000e+05   1.83425550e+07   0.00000000e+00\n",
      "   0.00000000e+00   0.00000000e+00   0.00000000e+00   0.00000000e+00\n",
      "   0.00000000e+00   5.39725824e+12   9.35320320e+09   1.03600781e+11\n",
      "   1.81534848e+10   4.05842131e+11   1.62086760e+07   1.79535444e+08\n",
      "   3.14591640e+07   7.03305966e+08   1.98862484e+09   3.48457516e+08\n",
      "   7.79017045e+09   6.10585960e+07   1.36503547e+09   3.05169455e+10]\n"
     ]
    },
    {
     "data": {
      "text/plain": [
       "LinearRegression(copy_X=True, fit_intercept=True, n_jobs=1, normalize=False)"
      ]
     },
     "execution_count": 14,
     "metadata": {},
     "output_type": "execute_result"
    },
    {
     "name": "stdout",
     "output_type": "stream",
     "text": [
      "Intercept & Coefficients  0.034861060359 [  7.53464891e-03   1.40739445e-03  -5.62908558e-02  -4.71528421e-07\n",
      "  -4.05432805e-06   1.27158279e-04   4.85928796e-06  -4.17345305e-07\n",
      "   1.64438076e-09   7.16720179e-07  -7.64025874e-03  -3.60637958e-09\n",
      "   1.14316999e-08  -3.91062540e-08  -5.53370290e-10   6.98273549e-10\n",
      "  -1.57954364e-07  -7.46205782e-04   1.87295003e-09   5.49449999e-08\n",
      "  -2.17110995e-07  -9.43859477e-09  -6.17305613e-10  -5.65312333e-02\n",
      "   1.38911921e-06  -5.23846896e-06  -7.96684225e-05  -2.78982724e-06\n",
      "   7.40550135e-08   1.20708998e-13  -6.45469388e-12   1.06204038e-11\n",
      "   2.12539605e-12  -7.73358808e-13   3.88426186e-11  -5.56858792e-10\n",
      "   1.48821056e-11  -9.59162003e-12  -3.23355797e-09   7.90099160e-11\n",
      "   8.37547216e-11  -1.53923109e-12  -2.17128876e-12   1.30145894e-13]\n",
      "R-squared : 0.2467\n"
     ]
    },
    {
     "data": {
      "text/plain": [
       "<matplotlib.collections.PathCollection at 0x2aaa9a44d68>"
      ]
     },
     "execution_count": 14,
     "metadata": {},
     "output_type": "execute_result"
    },
    {
     "data": {
      "text/plain": [
       "[<matplotlib.lines.Line2D at 0x2aaa9a44d30>]"
      ]
     },
     "execution_count": 14,
     "metadata": {},
     "output_type": "execute_result"
    },
    {
     "data": {
      "image/png": "[encoded data removed]",
      "text/plain": [
       "<matplotlib.figure.Figure at 0x2aaa946d128>"
      ]
     },
     "metadata": {},
     "output_type": "display_data"
    }
   ],
   "source": [
    "from sklearn.linear_model import LinearRegression\n",
    "from sklearn.preprocessing import PolynomialFeatures\n",
    "\n",
    "poly_features=PolynomialFeatures(degree=2,include_bias=False)\n",
    "\n",
    "X_poly = poly_features.fit_transform(X)\n",
    "\n",
    "print(\"X (1rst element only)\",X[0])\n",
    "print(\"X transformed to a polynomial degree 2\",X_poly[0])\n",
    "\n",
    "# now we can apply the scikit-learn Linear Regression routines\n",
    "\n",
    "model = LinearRegression()\n",
    "model.fit(X_poly, y)\n",
    "\n",
    "print(\"Intercept & Coefficients \",model.intercept_,model.coef_)\n",
    "\n",
    "print(\"R-squared : {0:.4f}\".format(model.score(X_poly,y)))\n",
    "\n",
    "X=np.sort(X[:,0])\n",
    "\n",
    "plt.scatter(X,y)\n",
    "plt.plot(X,c=\"r\")\n",
    "plt.show()"
   ]
  },
  {
   "cell_type": "markdown",
   "metadata": {},
   "source": [
    "#### Clearly, this prediction is also not so accurate, only with a R-squared : 0.2467 R-squared"
   ]
  },
  {
   "cell_type": "markdown",
   "metadata": {},
   "source": [
    "Now we try to use deep learning:"
   ]
  },
  {
   "cell_type": "code",
   "execution_count": 15,
   "metadata": {
    "collapsed": true
   },
   "outputs": [],
   "source": [
    "# Import libraries for linear algebra, graphs, and evaluation of results\n",
    "from sklearn.linear_model import LinearRegression\n",
    "from sklearn.preprocessing import StandardScaler\n",
    "from sklearn.metrics import roc_curve, roc_auc_score\n",
    "from scipy.ndimage.filters import uniform_filter1d"
   ]
  },
  {
   "cell_type": "code",
   "execution_count": 16,
   "metadata": {},
   "outputs": [
    {
     "name": "stderr",
     "output_type": "stream",
     "text": [
      "Using TensorFlow backend.\n"
     ]
    }
   ],
   "source": [
    "# Keras is a high level neural networks library, based on either tensorflow or theano\n",
    "from keras.models import Sequential, Model\n",
    "from keras.layers.core import Dense, Activation\n",
    "from keras.layers import Conv1D, MaxPool1D, Conv2D, MaxPooling2D, Dense, Dropout, Flatten, BatchNormalization, Input, concatenate, Activation\n",
    "from keras.optimizers import Adam"
   ]
  },
  {
   "cell_type": "code",
   "execution_count": 17,
   "metadata": {
    "collapsed": true
   },
   "outputs": [],
   "source": [
    "# Load the data\n",
    "X_data = clean_df1[['retweet_count','text_number','Is_this_a_retweet','user_followers','user_friends','user_listed','user_favourites_count','user_statuses_number']]\n",
    "X = np.array(X_data)\n",
    "y = clean_df1['favorited']\n",
    "\n",
    "x_train, x_test, y_train, y_test=train_test_split(X,y,test_size=0.2)"
   ]
  },
  {
   "cell_type": "code",
   "execution_count": 18,
   "metadata": {
    "collapsed": true
   },
   "outputs": [],
   "source": [
    "#Scale each observation to zero mean and unit variance\n",
    "x_train = ((x_train - np.mean(x_train, axis=1).reshape(-1,1)) / \n",
    "           np.std(x_train, axis=1).reshape(-1,1))\n",
    "x_test = ((x_test - np.mean(x_test, axis=1).reshape(-1,1)) / \n",
    "          np.std(x_test, axis=1).reshape(-1,1))"
   ]
  },
  {
   "cell_type": "code",
   "execution_count": 19,
   "metadata": {
    "collapsed": true
   },
   "outputs": [],
   "source": [
    "x_train = np.stack([x_train, uniform_filter1d(x_train, axis=1, size=200)], axis=2)\n",
    "x_test = np.stack([x_test, uniform_filter1d(x_test, axis=1, size=200)], axis=2)"
   ]
  },
  {
   "cell_type": "code",
   "execution_count": 29,
   "metadata": {},
   "outputs": [
    {
     "data": {
      "text/plain": [
       "\"\\nmodel = Sequential()\\nmodel.add(Conv1D(filters=16, kernel_size=11, activation='relu', input_shape=x_train.shape[1:]))\\nmodel.add(MaxPool1D(strides=4))\\nmodel.add(BatchNormalization())\\nmodel.add(Conv1D(filters=32, kernel_size=11, activation='relu'))\\nmodel.add(MaxPool1D(strides=4))\\nmodel.add(BatchNormalization())\\nmodel.add(Conv1D(filters=64, kernel_size=11, activation='relu'))\\nmodel.add(MaxPool1D(strides=4))\\nmodel.add(Flatten())\\nmodel.add(Dropout(0.5))\\nmodel.add(Dense(64, activation='relu'))\\nmodel.add(Dropout(0.25))\\nmodel.add(Dense(64, activation='relu'))\\nmodel.add(Dense(1, activation='sigmoid'))\\n\""
      ]
     },
     "execution_count": 29,
     "metadata": {},
     "output_type": "execute_result"
    }
   ],
   "source": [
    "\"\"\"\n",
    "model = Sequential()\n",
    "model.add(Conv1D(filters=16, kernel_size=11, activation='relu', input_shape=x_train.shape[1:]))\n",
    "model.add(MaxPool1D(strides=4))\n",
    "model.add(BatchNormalization())\n",
    "model.add(Conv1D(filters=32, kernel_size=11, activation='relu'))\n",
    "model.add(MaxPool1D(strides=4))\n",
    "model.add(BatchNormalization())\n",
    "model.add(Conv1D(filters=64, kernel_size=11, activation='relu'))\n",
    "model.add(MaxPool1D(strides=4))\n",
    "model.add(Flatten())\n",
    "model.add(Dropout(0.5))\n",
    "model.add(Dense(64, activation='relu'))\n",
    "model.add(Dropout(0.25))\n",
    "model.add(Dense(64, activation='relu'))\n",
    "model.add(Dense(1, activation='sigmoid'))\n",
    "\"\"\""
   ]
  },
  {
   "cell_type": "code",
   "execution_count": 25,
   "metadata": {
    "collapsed": true
   },
   "outputs": [],
   "source": [
    "def batch_generator(x_train, y_train, batch_size=32):\n",
    "    \"\"\"\n",
    "    Gives equal number of positive and negative samples, and rotates them randomly in time\n",
    "    \"\"\"\n",
    "    half_batch = batch_size // 2\n",
    "    x_batch = np.empty((batch_size, x_train.shape[1], x_train.shape[2]), dtype='float32')\n",
    "    y_batch = np.empty((batch_size, y_train.shape[1]), dtype='float32')\n",
    "    \n",
    "    yes_idx = np.where(y_train[:,0] == 1.)[0]\n",
    "    non_idx = np.where(y_train[:,0] == 0.)[0]\n",
    "    \n",
    "    while True:\n",
    "        np.random.shuffle(yes_idx)\n",
    "        np.random.shuffle(non_idx)\n",
    "    \n",
    "        x_batch[:half_batch] = x_train[yes_idx[:half_batch]]\n",
    "        x_batch[half_batch:] = x_train[non_idx[half_batch:batch_size]]\n",
    "        y_batch[:half_batch] = y_train[yes_idx[:half_batch]]\n",
    "        y_batch[half_batch:] = y_train[non_idx[half_batch:batch_size]]\n",
    "    \n",
    "        for i in range(batch_size):\n",
    "            sz = np.random.randint(x_batch.shape[1])\n",
    "            x_batch[i] = np.roll(x_batch[i], sz, axis = 0)\n",
    "     \n",
    "        yield x_batch, y_batch"
   ]
  },
  {
   "cell_type": "code",
   "execution_count": 27,
   "metadata": {},
   "outputs": [
    {
     "data": {
      "text/plain": [
       "\"\\n#Start with a slightly lower learning rate, to ensure convergence\\nmodel.compile(optimizer=Adam(1e-5), loss = 'binary_crossentropy', metrics=['accuracy'])\\nhist = model.fit_generator(batch_generator(x_train, y_train, 32), \\n                           validation_data=(x_test, y_test), \\n                           verbose=0, epochs=5,\\n                           steps_per_epoch=x_train.shape[1]//32)\\n\""
      ]
     },
     "execution_count": 27,
     "metadata": {},
     "output_type": "execute_result"
    }
   ],
   "source": [
    "\"\"\"\n",
    "#Start with a slightly lower learning rate, to ensure convergence\n",
    "model.compile(optimizer=Adam(1e-5), loss = 'binary_crossentropy', metrics=['accuracy'])\n",
    "hist = model.fit_generator(batch_generator(x_train, y_train, 32), \n",
    "                           validation_data=(x_test, y_test), \n",
    "                           verbose=0, epochs=5,\n",
    "                           steps_per_epoch=x_train.shape[1]//32)\n",
    "\"\"\""
   ]
  },
  {
   "cell_type": "code",
   "execution_count": 28,
   "metadata": {},
   "outputs": [
    {
     "data": {
      "text/plain": [
       "\"\\nmodel.compile(optimizer=Adam(4e-5), loss = 'binary_crossentropy', metrics=['accuracy'])\\nhist = model.fit_generator(batch_generator(x_train, y_train, 32), \\n                           validation_data=(x_test, y_test), \\n                           verbose=2, epochs=40,\\n                           steps_per_epoch=x_train.shape[1]//32)\\n\""
      ]
     },
     "execution_count": 28,
     "metadata": {},
     "output_type": "execute_result"
    }
   ],
   "source": [
    "\"\"\"\n",
    "model.compile(optimizer=Adam(4e-5), loss = 'binary_crossentropy', metrics=['accuracy'])\n",
    "hist = model.fit_generator(batch_generator(x_train, y_train, 32), \n",
    "                           validation_data=(x_test, y_test), \n",
    "                           verbose=2, epochs=40,\n",
    "                           steps_per_epoch=x_train.shape[1]//32)\n",
    "\"\"\""
   ]
  }
 ],
 "metadata": {
  "kernelspec": {
   "display_name": "Python 3",
   "language": "python",
   "name": "python3"
  },
  "language_info": {
   "codemirror_mode": {
    "name": "ipython",
    "version": 3
   },
   "file_extension": ".py",
   "mimetype": "text/x-python",
   "name": "python",
   "nbconvert_exporter": "python",
   "pygments_lexer": "ipython3",
   "version": "3.6.1"
  }
 },
 "nbformat": 4,
 "nbformat_minor": 2
}
